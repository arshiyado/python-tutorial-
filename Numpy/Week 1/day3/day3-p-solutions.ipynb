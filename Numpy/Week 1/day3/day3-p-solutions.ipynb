{
 "cells": [
  {
   "cell_type": "markdown",
   "id": "c24c64ba",
   "metadata": {},
   "source": [
    "# NumPy Array Manipulation - Practice Exercises (with new functons)"
   ]
  },
  {
   "cell_type": "markdown",
   "id": "fc6da53a",
   "metadata": {},
   "source": [
    "These exercises are based on methods from the NumPy array manipulation tutorial. Try to implement each task using the appropriate function."
   ]
  },
  {
   "cell_type": "code",
   "execution_count": 2,
   "id": "9c5009f3",
   "metadata": {},
   "outputs": [],
   "source": [
    "import numpy as np "
   ]
  },
  {
   "cell_type": "markdown",
   "id": "0d0812b0",
   "metadata": {},
   "source": [
    "## `reshape`\n",
    "Create an array of 12 elements and reshape it to 3 rows and 4 columns."
   ]
  },
  {
   "cell_type": "code",
   "execution_count": 4,
   "id": "56d4dbb7",
   "metadata": {},
   "outputs": [
    {
     "name": "stdout",
     "output_type": "stream",
     "text": [
      "[[ 0  1  2  3]\n",
      " [ 4  5  6  7]\n",
      " [ 8  9 10 11]]\n"
     ]
    }
   ],
   "source": [
    "a = np.arange(12)\n",
    "a_r = a.reshape((3, 4))\n",
    "print(a_r)\n"
   ]
  },
  {
   "cell_type": "markdown",
   "id": "548216ee",
   "metadata": {},
   "source": [
    "## `flatten`\n",
    "Given a 2D array, flatten it into a 1D array."
   ]
  },
  {
   "cell_type": "code",
   "execution_count": 4,
   "id": "03bc9277",
   "metadata": {},
   "outputs": [
    {
     "name": "stdout",
     "output_type": "stream",
     "text": [
      "[ 0  1  2  3  4  5  6  7  8  9 10 11]\n"
     ]
    }
   ],
   "source": [
    "a_f = a_r.flatten()\n",
    "print(a_f)"
   ]
  },
  {
   "cell_type": "markdown",
   "id": "7bbd29b6",
   "metadata": {},
   "source": [
    "## `ravel`\n",
    "Create a 2D array and use `ravel()` to make it 1D."
   ]
  },
  {
   "cell_type": "code",
   "execution_count": 5,
   "id": "e775fb4c",
   "metadata": {},
   "outputs": [
    {
     "name": "stdout",
     "output_type": "stream",
     "text": [
      "[ 0  1  2  3  4  5  6  7  8  9 10 11]\n"
     ]
    }
   ],
   "source": [
    "a_ravel = a_r.ravel()\n",
    "print(a_ravel)"
   ]
  },
  {
   "cell_type": "markdown",
   "id": "fb3d9934",
   "metadata": {},
   "source": [
    "## `transpose`\n",
    "Transpose a 2x3 array."
   ]
  },
  {
   "cell_type": "code",
   "execution_count": 7,
   "id": "183a9ef2",
   "metadata": {},
   "outputs": [
    {
     "name": "stdout",
     "output_type": "stream",
     "text": [
      "[[ 0  4  8]\n",
      " [ 1  5  9]\n",
      " [ 2  6 10]\n",
      " [ 3  7 11]] \n",
      "\n",
      "[[ 0  4  8]\n",
      " [ 1  5  9]\n",
      " [ 2  6 10]\n",
      " [ 3  7 11]]\n"
     ]
    }
   ],
   "source": [
    "t1 = np.transpose(a_r)\n",
    "print(t1, \"\\n\")\n",
    "t2 = a_r.T \n",
    "print(t2)"
   ]
  },
  {
   "cell_type": "markdown",
   "id": "c746149b",
   "metadata": {},
   "source": [
    "## `swapaxes`\n",
    "Create a 3D array of shape (2, 3, 4) and swap axes 0 and 2."
   ]
  },
  {
   "cell_type": "code",
   "execution_count": 15,
   "id": "403490ee",
   "metadata": {},
   "outputs": [
    {
     "name": "stdout",
     "output_type": "stream",
     "text": [
      "[[[ 0  1  2]\n",
      "  [ 3  4  5]\n",
      "  [ 6  7  8]]\n",
      "\n",
      " [[ 9 10 11]\n",
      "  [12 13 14]\n",
      "  [15 16 17]]] \n",
      "------------\n",
      "[[[ 0  9]\n",
      "  [ 3 12]\n",
      "  [ 6 15]]\n",
      "\n",
      " [[ 1 10]\n",
      "  [ 4 13]\n",
      "  [ 7 16]]\n",
      "\n",
      " [[ 2 11]\n",
      "  [ 5 14]\n",
      "  [ 8 17]]] \n",
      "\n",
      " (3, 3, 2)\n"
     ]
    }
   ],
   "source": [
    "b = np.arange(18)\n",
    "b_r = b.reshape((2, 3, 3))\n",
    "print(b_r, \"\\n------------\")\n",
    "b_s = np.swapaxes(b_r, 0, 2)\n",
    "print(b_s, \"\\n\\n\", b_s.shape)\n"
   ]
  },
  {
   "cell_type": "markdown",
   "id": "70343f73",
   "metadata": {},
   "source": [
    "## `broadcast_to`\n",
    "Broadcast a 1D array `[1, 2, 3]` to shape `(3, 3)`."
   ]
  },
  {
   "cell_type": "code",
   "execution_count": 17,
   "id": "5cfbb546",
   "metadata": {},
   "outputs": [
    {
     "name": "stdout",
     "output_type": "stream",
     "text": [
      "[0 1 2] \n",
      "\n",
      "[[0 1 2]\n",
      " [0 1 2]\n",
      " [0 1 2]]\n"
     ]
    }
   ],
   "source": [
    "q = np.arange(3)\n",
    "print(q, \"\\n\")\n",
    "q_b = np.broadcast_to(q, (3, 3))\n",
    "print(q_b)"
   ]
  },
  {
   "cell_type": "markdown",
   "id": "dd219158",
   "metadata": {},
   "source": [
    "## `expand_dims`\n",
    "Add a new axis to a 1D array to make it 2D."
   ]
  },
  {
   "cell_type": "code",
   "execution_count": 19,
   "id": "a8b73177",
   "metadata": {},
   "outputs": [
    {
     "name": "stdout",
     "output_type": "stream",
     "text": [
      "[0 1 2 3 4]\n",
      "[[0 1 2 3 4]]\n"
     ]
    }
   ],
   "source": [
    "e = np.arange(5)\n",
    "print(e)\n",
    "e_e = np.expand_dims(e, axis=0)\n",
    "print(e_e)"
   ]
  },
  {
   "cell_type": "markdown",
   "id": "36f282bf",
   "metadata": {},
   "source": [
    "## `concatenate`\n",
    "Concatenate two 2D arrays along axis 0."
   ]
  },
  {
   "cell_type": "code",
   "execution_count": 25,
   "id": "e45941e9",
   "metadata": {},
   "outputs": [
    {
     "name": "stdout",
     "output_type": "stream",
     "text": [
      "Concatenated:\n",
      " [[ 5  6  7  4  1  2  3]\n",
      " [ 8  9 10  5 -1 -2 -2]]\n"
     ]
    }
   ],
   "source": [
    "b = np.array([[5, 6, 7, 4], [8, 9, 10, 5]])\n",
    "a = np.array([[1, 2, 3], [-1, -2, -2]])\n",
    "print('Concatenated:\\n', np.concatenate((b, a), axis=1))"
   ]
  },
  {
   "cell_type": "markdown",
   "id": "a939de49",
   "metadata": {},
   "source": [
    "## `split`\n",
    "Split a 1D array of 9 elements into three equal parts."
   ]
  },
  {
   "cell_type": "code",
   "execution_count": 56,
   "id": "d385bb41",
   "metadata": {},
   "outputs": [
    {
     "name": "stdout",
     "output_type": "stream",
     "text": [
      "[ 0  3  6  9 12 15 18 21 24] \n",
      "\n",
      "0 :  [0]\n",
      "1 :  [3]\n",
      "2 :  [6]\n",
      "3 :  [9]\n",
      "4 :  [12]\n",
      "5 :  [15]\n",
      "6 :  [18]\n",
      "7 :  [21]\n",
      "8 :  [24]\n"
     ]
    }
   ],
   "source": [
    "s = np.arange(0, 27, 3, dtype=np.int32)\n",
    "print(s, \"\\n\")\n",
    "\n",
    "x = np.split(s, 9)\n",
    "for i in range(0, 9) : \n",
    "    print(i, \": \" ,x[i])"
   ]
  },
  {
   "cell_type": "markdown",
   "id": "bcacbe3c",
   "metadata": {},
   "source": [
    "## `append`\n",
    "Append a row `[7, 8]` to a 2x2 array."
   ]
  },
  {
   "cell_type": "code",
   "execution_count": 50,
   "id": "b6be67d2",
   "metadata": {},
   "outputs": [
    {
     "name": "stdout",
     "output_type": "stream",
     "text": [
      "[[7 8]] \n",
      "\n",
      "[[7 8]\n",
      " [1 2]]\n"
     ]
    }
   ],
   "source": [
    "a = np.linspace(7, 8, endpoint=True, num=2, dtype=np.int32)\n",
    "a = np.expand_dims(a, axis=0)\n",
    "print(a, \"\\n\")\n",
    "print(np.append(a, [[1, 2]], axis=0))"
   ]
  },
  {
   "cell_type": "markdown",
   "id": "fb4aceb4",
   "metadata": {},
   "source": [
    "## `delete`\n",
    "Delete the second row of a 3x2 array."
   ]
  },
  {
   "cell_type": "code",
   "execution_count": 37,
   "id": "b8be4ebd",
   "metadata": {},
   "outputs": [
    {
     "name": "stdout",
     "output_type": "stream",
     "text": [
      "[[0 1 2]\n",
      " [3 4 5]] \n",
      "\n",
      "[[0 1 2]]\n"
     ]
    }
   ],
   "source": [
    "d = np.arange(6)\n",
    "d = d.reshape((2, 3))\n",
    "print(d, \"\\n\")\n",
    "d_d = np.delete(d, 1, axis=0) # axis=0 is for deleting row and 1 is for the second row (0 base indexing) \n",
    "print(d_d)"
   ]
  },
  {
   "cell_type": "markdown",
   "id": "83c1a0ea",
   "metadata": {},
   "source": [
    "## `unique`\n",
    "Find unique elements in the array `[1, 2, 2, 3, 3, 3]`."
   ]
  },
  {
   "cell_type": "code",
   "execution_count": 30,
   "id": "dfdeb60c",
   "metadata": {},
   "outputs": [
    {
     "name": "stdout",
     "output_type": "stream",
     "text": [
      "[1 2 3]\n"
     ]
    }
   ],
   "source": [
    "x = np.array([1, 2, 2, 3, 3, 3])\n",
    "x_u = np.unique(x)\n",
    "print(x_u)"
   ]
  },
  {
   "cell_type": "markdown",
   "id": "ed7a6740",
   "metadata": {},
   "source": [
    "## `repeat`\n",
    "Repeat each element of `[1, 2, 3, 2]` twice."
   ]
  },
  {
   "cell_type": "code",
   "execution_count": 64,
   "id": "160ab9f2",
   "metadata": {},
   "outputs": [
    {
     "name": "stdout",
     "output_type": "stream",
     "text": [
      "[1 1 2 2 3 3 2 2]\n"
     ]
    }
   ],
   "source": [
    "a = np.array([1, 2, 3, 2])\n",
    "a_repeat = np.repeat(a, 2) \n",
    "print(a_repeat)"
   ]
  },
  {
   "cell_type": "markdown",
   "id": "e2b245d4",
   "metadata": {},
   "source": [
    "## `flip`\n",
    "Flip a 2D array upside down."
   ]
  },
  {
   "cell_type": "code",
   "execution_count": 60,
   "id": "25749c29",
   "metadata": {},
   "outputs": [
    {
     "name": "stdout",
     "output_type": "stream",
     "text": [
      "[[ 0  1  2  3  4]\n",
      " [ 5  6  7  8  9]\n",
      " [10 11 12 13 14]] \n",
      "-------------\n",
      "[[14 13 12 11 10]\n",
      " [ 9  8  7  6  5]\n",
      " [ 4  3  2  1  0]]\n"
     ]
    }
   ],
   "source": [
    "f = np.arange(15)\n",
    "f = f.reshape((3, 5))\n",
    "print(f, \"\\n-------------\")\n",
    "\n",
    "f_flip = np.flip(f)\n",
    "print(f_flip)"
   ]
  },
  {
   "cell_type": "markdown",
   "id": "31bc64b2",
   "metadata": {},
   "source": [
    "## `sort`\n",
    "Sort a 1D array `[3, 1, 2]`."
   ]
  },
  {
   "cell_type": "code",
   "execution_count": 72,
   "id": "d9cf1dd5",
   "metadata": {},
   "outputs": [
    {
     "name": "stdout",
     "output_type": "stream",
     "text": [
      "[1 2 3]\n"
     ]
    }
   ],
   "source": [
    "n = np.array([3, 1, 2])\n",
    "print(np.sort(n))"
   ]
  },
  {
   "cell_type": "markdown",
   "id": "96ca31b4",
   "metadata": {},
   "source": [
    "## `argmax`\n",
    "Find the index of the maximum element in `[1, 7, 3]`."
   ]
  },
  {
   "cell_type": "code",
   "execution_count": 71,
   "id": "43e36a2b",
   "metadata": {},
   "outputs": [
    {
     "name": "stdout",
     "output_type": "stream",
     "text": [
      "1\n"
     ]
    }
   ],
   "source": [
    "m = np.array([1, 7, 3])\n",
    "print(np.argmax(m))"
   ]
  },
  {
   "cell_type": "markdown",
   "id": "9d197fe7",
   "metadata": {},
   "source": [
    "## `intersect1d`\n",
    "Find the common elements between `[1, 2, 3]` and `[2, 3, 4]`."
   ]
  },
  {
   "cell_type": "code",
   "execution_count": 67,
   "id": "4088aa02",
   "metadata": {},
   "outputs": [
    {
     "name": "stdout",
     "output_type": "stream",
     "text": [
      "[2 3]\n"
     ]
    }
   ],
   "source": [
    "a1 = np.array([1, 2, 3])\n",
    "a2 = np.array([2, 3, 4])\n",
    "\n",
    "a3 = np.intersect1d(a1, a2)\n",
    "print(a3)"
   ]
  },
  {
   "cell_type": "markdown",
   "id": "a49f89f1",
   "metadata": {},
   "source": [
    "## `clip`\n",
    "Clip the values of `[1, 4, 7]` to stay between 2 and 5."
   ]
  },
  {
   "cell_type": "code",
   "execution_count": 65,
   "id": "07a276f0",
   "metadata": {},
   "outputs": [
    {
     "name": "stdout",
     "output_type": "stream",
     "text": [
      "[2 2 3 2]\n"
     ]
    }
   ],
   "source": [
    "c = np.array([1, 4, 7])\n",
    "c_clip = np.clip(a, 2, 5)\n",
    "print(c_clip) "
   ]
  },
  {
   "cell_type": "code",
   "execution_count": null,
   "id": "907ec8ae",
   "metadata": {},
   "outputs": [],
   "source": []
  }
 ],
 "metadata": {
  "kernelspec": {
   "display_name": "Python 3",
   "language": "python",
   "name": "python3"
  },
  "language_info": {
   "codemirror_mode": {
    "name": "ipython",
    "version": 3
   },
   "file_extension": ".py",
   "mimetype": "text/x-python",
   "name": "python",
   "nbconvert_exporter": "python",
   "pygments_lexer": "ipython3",
   "version": "3.11.4"
  }
 },
 "nbformat": 4,
 "nbformat_minor": 5
}
