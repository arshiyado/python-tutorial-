{
 "cells": [
  {
   "cell_type": "markdown",
   "id": "c24c64ba",
   "metadata": {},
   "source": [
    "# NumPy Array Manipulation - Practice Exercises"
   ]
  },
  {
   "cell_type": "markdown",
   "id": "fc6da53a",
   "metadata": {},
   "source": [
    "These exercises are based on methods from the NumPy array manipulation tutorial. Try to implement each task using the appropriate function."
   ]
  },
  {
   "cell_type": "markdown",
   "id": "0d0812b0",
   "metadata": {},
   "source": [
    "## `reshape`\n",
    "Create an array of 12 elements and reshape it to 3 rows and 4 columns."
   ]
  },
  {
   "cell_type": "code",
   "execution_count": null,
   "id": "56d4dbb7",
   "metadata": {},
   "outputs": [],
   "source": [
    "# Your code here"
   ]
  },
  {
   "cell_type": "markdown",
   "id": "548216ee",
   "metadata": {},
   "source": [
    "## `flatten`\n",
    "Given a 2D array, flatten it into a 1D array."
   ]
  },
  {
   "cell_type": "code",
   "execution_count": null,
   "id": "03bc9277",
   "metadata": {},
   "outputs": [],
   "source": [
    "# Your code here"
   ]
  },
  {
   "cell_type": "markdown",
   "id": "7bbd29b6",
   "metadata": {},
   "source": [
    "## `ravel`\n",
    "Create a 2D array and use `ravel()` to make it 1D."
   ]
  },
  {
   "cell_type": "code",
   "execution_count": null,
   "id": "e775fb4c",
   "metadata": {},
   "outputs": [],
   "source": [
    "# Your code here"
   ]
  },
  {
   "cell_type": "markdown",
   "id": "fb3d9934",
   "metadata": {},
   "source": [
    "## `transpose`\n",
    "Transpose a 2x3 array."
   ]
  },
  {
   "cell_type": "code",
   "execution_count": null,
   "id": "183a9ef2",
   "metadata": {},
   "outputs": [],
   "source": [
    "# Your code here"
   ]
  },
  {
   "cell_type": "markdown",
   "id": "c746149b",
   "metadata": {},
   "source": [
    "## `swapaxes`\n",
    "Create a 3D array of shape (2, 3, 4) and swap axes 0 and 2."
   ]
  },
  {
   "cell_type": "code",
   "execution_count": null,
   "id": "403490ee",
   "metadata": {},
   "outputs": [],
   "source": [
    "# Your code here"
   ]
  },
  {
   "cell_type": "markdown",
   "id": "70343f73",
   "metadata": {},
   "source": [
    "## `broadcast_to`\n",
    "Broadcast a 1D array `[1, 2, 3]` to shape `(3, 3)`."
   ]
  },
  {
   "cell_type": "code",
   "execution_count": null,
   "id": "5cfbb546",
   "metadata": {},
   "outputs": [],
   "source": [
    "# Your code here"
   ]
  },
  {
   "cell_type": "markdown",
   "id": "dd219158",
   "metadata": {},
   "source": [
    "## `expand_dims`\n",
    "Add a new axis to a 1D array to make it 2D."
   ]
  },
  {
   "cell_type": "code",
   "execution_count": null,
   "id": "a8b73177",
   "metadata": {},
   "outputs": [],
   "source": [
    "# Your code here"
   ]
  },
  {
   "cell_type": "markdown",
   "id": "36f282bf",
   "metadata": {},
   "source": [
    "## `concatenate`\n",
    "Concatenate two 2D arrays along axis 0."
   ]
  },
  {
   "cell_type": "code",
   "execution_count": null,
   "id": "e45941e9",
   "metadata": {},
   "outputs": [],
   "source": [
    "# Your code here"
   ]
  },
  {
   "cell_type": "markdown",
   "id": "ac561183",
   "metadata": {},
   "source": [
    "## `stack`\n",
    "Stack two 1D arrays along a new axis."
   ]
  },
  {
   "cell_type": "code",
   "execution_count": null,
   "id": "ef56a6a0",
   "metadata": {},
   "outputs": [],
   "source": [
    "# Your code here"
   ]
  },
  {
   "cell_type": "markdown",
   "id": "a939de49",
   "metadata": {},
   "source": [
    "## `split`\n",
    "Split a 1D array of 9 elements into three equal parts."
   ]
  },
  {
   "cell_type": "code",
   "execution_count": null,
   "id": "d385bb41",
   "metadata": {},
   "outputs": [],
   "source": [
    "# Your code here"
   ]
  },
  {
   "cell_type": "markdown",
   "id": "bcacbe3c",
   "metadata": {},
   "source": [
    "## `append`\n",
    "Append a row `[7, 8]` to a 2x2 array."
   ]
  },
  {
   "cell_type": "code",
   "execution_count": null,
   "id": "b6be67d2",
   "metadata": {},
   "outputs": [],
   "source": [
    "# Your code here"
   ]
  },
  {
   "cell_type": "markdown",
   "id": "fb4aceb4",
   "metadata": {},
   "source": [
    "## `delete`\n",
    "Delete the second row of a 3x2 array."
   ]
  },
  {
   "cell_type": "code",
   "execution_count": null,
   "id": "b8be4ebd",
   "metadata": {},
   "outputs": [],
   "source": [
    "# Your code here"
   ]
  },
  {
   "cell_type": "markdown",
   "id": "83c1a0ea",
   "metadata": {},
   "source": [
    "## `unique`\n",
    "Find unique elements in the array `[1, 2, 2, 3, 3, 3]`."
   ]
  },
  {
   "cell_type": "code",
   "execution_count": null,
   "id": "dfdeb60c",
   "metadata": {},
   "outputs": [],
   "source": [
    "# Your code here"
   ]
  },
  {
   "cell_type": "markdown",
   "id": "ed7a6740",
   "metadata": {},
   "source": [
    "## `repeat`\n",
    "Repeat each element of `[1, 2, 3]` twice."
   ]
  },
  {
   "cell_type": "code",
   "execution_count": null,
   "id": "160ab9f2",
   "metadata": {},
   "outputs": [],
   "source": [
    "# Your code here"
   ]
  },
  {
   "cell_type": "markdown",
   "id": "e2b245d4",
   "metadata": {},
   "source": [
    "## `flip`\n",
    "Flip a 2D array upside down."
   ]
  },
  {
   "cell_type": "code",
   "execution_count": null,
   "id": "25749c29",
   "metadata": {},
   "outputs": [],
   "source": [
    "# Your code here"
   ]
  },
  {
   "cell_type": "markdown",
   "id": "31bc64b2",
   "metadata": {},
   "source": [
    "## `sort`\n",
    "Sort a 1D array `[3, 1, 2]`."
   ]
  },
  {
   "cell_type": "code",
   "execution_count": null,
   "id": "d9cf1dd5",
   "metadata": {},
   "outputs": [],
   "source": [
    "# Your code here"
   ]
  },
  {
   "cell_type": "markdown",
   "id": "96ca31b4",
   "metadata": {},
   "source": [
    "## `argmax`\n",
    "Find the index of the maximum element in `[1, 7, 3]`."
   ]
  },
  {
   "cell_type": "code",
   "execution_count": null,
   "id": "43e36a2b",
   "metadata": {},
   "outputs": [],
   "source": [
    "# Your code here"
   ]
  },
  {
   "cell_type": "markdown",
   "id": "9d197fe7",
   "metadata": {},
   "source": [
    "## `intersect1d`\n",
    "Find the common elements between `[1, 2, 3]` and `[2, 3, 4]`."
   ]
  },
  {
   "cell_type": "code",
   "execution_count": null,
   "id": "4088aa02",
   "metadata": {},
   "outputs": [],
   "source": [
    "# Your code here"
   ]
  },
  {
   "cell_type": "markdown",
   "id": "a49f89f1",
   "metadata": {},
   "source": [
    "## `clip`\n",
    "Clip the values of `[1, 4, 7]` to stay between 2 and 5."
   ]
  },
  {
   "cell_type": "code",
   "execution_count": null,
   "id": "07a276f0",
   "metadata": {},
   "outputs": [],
   "source": [
    "# Your code here"
   ]
  }
 ],
 "metadata": {
  "kernelspec": {
   "display_name": "Python 3",
   "language": "python",
   "name": "python3"
  },
  "language_info": {
   "name": "python",
   "version": "3.11.4"
  }
 },
 "nbformat": 4,
 "nbformat_minor": 5
}
