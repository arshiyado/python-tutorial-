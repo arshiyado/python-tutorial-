{
 "cells": [
  {
   "cell_type": "markdown",
   "id": "e6dbd0d4",
   "metadata": {},
   "source": [
    "# NumPy Casting Practice Exercises\n",
    "\n",
    "This notebook contains 10 practice problems related to NumPy data type conversions (casting) using `.astype()` and NumPy type constructors like `np.int32()`, `np.float64()`, etc.\n",
    "\n",
    "<!-- > **Date:** 2025-07-06 -->\n"
   ]
  },
  {
   "cell_type": "code",
   "execution_count": null,
   "id": "70f87629",
   "metadata": {},
   "outputs": [],
   "source": [
    "import numpy as np"
   ]
  },
  {
   "cell_type": "markdown",
   "id": "3bf46226",
   "metadata": {},
   "source": [
    "### Exercise 1\n",
    "Create a NumPy array of integers from 1 to 5. Convert it to float using `.astype()`."
   ]
  },
  {
   "cell_type": "code",
   "execution_count": null,
   "id": "3c976510",
   "metadata": {},
   "outputs": [],
   "source": [
    "a = np.array([1, 2, 3, 4, 5], dtype=np.int32)\n",
    "print(a)\n",
    "a_float = a.astype(np.float32) \n",
    "print(a_float)"
   ]
  },
  {
   "cell_type": "markdown",
   "id": "83b381ef",
   "metadata": {},
   "source": [
    "### Exercise 2\n",
    "Take a float array `[1.5, 2.7, 3.3]` and cast it to integer using `np.int32()`."
   ]
  },
  {
   "cell_type": "code",
   "execution_count": null,
   "id": "3970627c",
   "metadata": {},
   "outputs": [],
   "source": [
    "b = np.array([1.5, 2.7, 3.3])\n",
    "b_int = np.int32(b)\n",
    "print(b_int)"
   ]
  },
  {
   "cell_type": "markdown",
   "id": "0d886297",
   "metadata": {},
   "source": [
    "### Exercise 3\n",
    "Create a NumPy array of strings `['10', '20', '30']` and convert it to integers using `np.int16()`."
   ]
  },
  {
   "cell_type": "code",
   "execution_count": null,
   "id": "d526cd81",
   "metadata": {},
   "outputs": [],
   "source": [
    "s = np.array(['10', '20', '30'])\n",
    "s = np.int16(s)\n",
    "print(s)"
   ]
  },
  {
   "cell_type": "markdown",
   "id": "cbd36c7d",
   "metadata": {},
   "source": [
    "### Exercise 4\n",
    "Try converting the string array `['1', 'hello', '3']` to integers and catch the error gracefully using `try-except`."
   ]
  },
  {
   "cell_type": "code",
   "execution_count": null,
   "id": "061c17e7",
   "metadata": {},
   "outputs": [],
   "source": [
    "s = np.array(['1', 'three', '3'])\n",
    "try : \n",
    "    ans = np.int32(s)\n",
    "except ValueError as e:\n",
    "    print(\"Error:\", e) \n",
    "    \n"
   ]
  },
  {
   "cell_type": "markdown",
   "id": "3abb6e6d",
   "metadata": {},
   "source": [
    "### Exercise 5\n",
    "Generate a NumPy array with type `np.float64`, then cast it to `np.complex64`."
   ]
  },
  {
   "cell_type": "code",
   "execution_count": null,
   "id": "50d43a91",
   "metadata": {},
   "outputs": [],
   "source": [
    "f = np.array([1.1, 2.2, 3.3], dtype=np.float64)\n",
    "print(f)\n",
    "f_complex = f.astype(np.complex64)\n",
    "print(f_complex)"
   ]
  },
  {
   "cell_type": "markdown",
   "id": "33f8f616",
   "metadata": {},
   "source": [
    "### Exercise 6\n",
    "Create an integer array `[100, 200, 300]`, then convert it to strings using `.astype(str)`."
   ]
  },
  {
   "cell_type": "code",
   "execution_count": null,
   "id": "b0ae247f",
   "metadata": {},
   "outputs": [],
   "source": [
    "p_int = np.array([100, 200, 300], dtype=np.int32)\n",
    "print(p_int)\n",
    "p_string = p_int.astype(str)\n",
    "print(p_string)"
   ]
  },
  {
   "cell_type": "markdown",
   "id": "5196fd5a",
   "metadata": {},
   "source": [
    "### Exercise 7\n",
    "Make a boolean array `[True, False, True]` and cast it to `int` and `float`. Observe the results."
   ]
  },
  {
   "cell_type": "code",
   "execution_count": null,
   "id": "64e9c86e",
   "metadata": {},
   "outputs": [],
   "source": [
    "q_bool = np.array([True, False, True], dtype=np.bool)\n",
    "print(q_bool)\n",
    "q_float = np.float64(q_bool)\n",
    "print(q_float)"
   ]
  },
  {
   "cell_type": "markdown",
   "id": "8681db11",
   "metadata": {},
   "source": [
    "### Exercise 8\n",
    "Create an array of mixed floats and cast it to `int`, then back to `float`. Compare original vs final arrays."
   ]
  },
  {
   "cell_type": "code",
   "execution_count": null,
   "id": "a6e1cd9e",
   "metadata": {},
   "outputs": [],
   "source": [
    "floats = np.array([1.9, 2.5, 3.1])\n",
    "ints = floats.astype(int)\n",
    "floats_back = ints.astype(float)\n",
    "print(\"Original:\", floats)\n",
    "print(\"Ints:\", ints)\n",
    "print(\"Back to floats:\", floats_back)"
   ]
  },
  {
   "cell_type": "markdown",
   "id": "da0a471f",
   "metadata": {},
   "source": [
    "### Exercise 9\n",
    "Make a 2D array of integers and convert all values to `float64` using `.astype()`."
   ]
  },
  {
   "cell_type": "code",
   "execution_count": null,
   "id": "d7889521",
   "metadata": {},
   "outputs": [],
   "source": [
    "arr2D = np.array([[1, 2, 3], [4, 5, 6]], dtype=np.int64)\n",
    "arr2D_float = arr2D.astype(np.float64)\n",
    "print(arr2D)\n",
    "print(arr2D_float)"
   ]
  },
  {
   "cell_type": "markdown",
   "id": "1c85721d",
   "metadata": {},
   "source": [
    "### Exercise 10\n",
    "Create a string array `['3.14', '2.71']` and convert it to `float32`. Then, convert it to `complex128`."
   ]
  },
  {
   "cell_type": "code",
   "execution_count": null,
   "id": "7c61ec28",
   "metadata": {},
   "outputs": [],
   "source": [
    "s_str = np.array(['3.14', '2.71'])\n",
    "s_float = np.float32(s_str)\n",
    "s_complex = np.complex128(s_float)\n",
    "print(s_str)\n",
    "print(s_float)\n",
    "print(s_complex)"
   ]
  },
  {
   "cell_type": "code",
   "execution_count": null,
   "id": "fa8ad029",
   "metadata": {},
   "outputs": [],
   "source": []
  }
 ],
 "metadata": {
  "kernelspec": {
   "display_name": "Python 3",
   "language": "python",
   "name": "python3"
  },
  "language_info": {
   "codemirror_mode": {
    "name": "ipython",
    "version": 3
   },
   "file_extension": ".py",
   "mimetype": "text/x-python",
   "name": "python",
   "nbconvert_exporter": "python",
   "pygments_lexer": "ipython3",
   "version": "3.11.4"
  }
 },
 "nbformat": 4,
 "nbformat_minor": 5
}
