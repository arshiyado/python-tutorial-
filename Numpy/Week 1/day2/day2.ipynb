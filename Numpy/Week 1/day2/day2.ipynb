{
 "cells": [
  {
   "cell_type": "markdown",
   "id": "93a616b9",
   "metadata": {},
   "source": [
    "# Session 2: numpy arrays creation "
   ]
  },
  {
   "cell_type": "code",
   "execution_count": null,
   "id": "72f524c9",
   "metadata": {},
   "outputs": [],
   "source": [
    "import numpy as np "
   ]
  },
  {
   "cell_type": "markdown",
   "id": "5d29c9f1",
   "metadata": {},
   "source": [
    "## Creating a 1D array using zeros\n",
    "\n",
    "- this will make all cells of the created array equal to 0 "
   ]
  },
  {
   "cell_type": "code",
   "execution_count": null,
   "id": "8ec1e672",
   "metadata": {},
   "outputs": [],
   "source": [
    "arr = np.zeros(5, dtype=np.int64)\n",
    "print(arr)"
   ]
  },
  {
   "cell_type": "markdown",
   "id": "6b659b1f",
   "metadata": {},
   "source": [
    "## Creating a 2D array using ones\n",
    "- which all elements are set to 1 "
   ]
  },
  {
   "cell_type": "code",
   "execution_count": null,
   "id": "1be18201",
   "metadata": {},
   "outputs": [],
   "source": [
    "brr = np.ones((5, 4), dtype=np.float32)\n",
    "print(brr)"
   ]
  },
  {
   "cell_type": "markdown",
   "id": "5c92f258",
   "metadata": {},
   "source": [
    "- setting the order flag 'C' or 'F' will specify how cells are stored in memory "
   ]
  },
  {
   "cell_type": "code",
   "execution_count": null,
   "id": "1d04270a",
   "metadata": {},
   "outputs": [],
   "source": [
    "crr = np.ones((5, 4), dtype=np.complex128, order='F')\n",
    "crr[0][1] = 2 + 3j\n",
    "print(crr)"
   ]
  },
  {
   "cell_type": "markdown",
   "id": "f1a94b2b",
   "metadata": {},
   "source": [
    "## Creating a 1D array using arange "
   ]
  },
  {
   "cell_type": "code",
   "execution_count": null,
   "id": "6e40ee5c",
   "metadata": {},
   "outputs": [],
   "source": [
    "drr = np.arange(0, 10, 2, dtype=np.float64)\n",
    "print(drr)"
   ]
  },
  {
   "cell_type": "markdown",
   "id": "ab57bb6d",
   "metadata": {},
   "source": [
    "- the arange is not used for more than 1D arrays \n",
    "but we can fix this using reshape "
   ]
  },
  {
   "cell_type": "code",
   "execution_count": null,
   "id": "8a93104d",
   "metadata": {},
   "outputs": [],
   "source": [
    "drr = np.arange(10)\n",
    "\n",
    "drr = drr.reshape(2, 5)\n",
    "print(drr)"
   ]
  },
  {
   "cell_type": "markdown",
   "id": "821d7879",
   "metadata": {},
   "source": [
    "## Creating a 1D array using linspace "
   ]
  },
  {
   "cell_type": "code",
   "execution_count": null,
   "id": "928120fd",
   "metadata": {},
   "outputs": [],
   "source": [
    "lin = np.linspace(0, 10, num = 9, endpoint=True)\n",
    "print(lin)"
   ]
  },
  {
   "cell_type": "markdown",
   "id": "56860402",
   "metadata": {},
   "source": [
    "In linspace  \n",
    "- we have a start : 0  \n",
    "- an end : 10  \n",
    "- number of points we want : 9  \n",
    "- and if we include the end in the points or not : endpoint=True\n",
    "\n",
    "the main difference between linspace and arange is the \n",
    "1. the linspace creates the array based on number of points we want \n",
    "2. while arange creates the array based on the step we want "
   ]
  },
  {
   "cell_type": "markdown",
   "id": "32448e93",
   "metadata": {},
   "source": [
    "## Creating an array using random.rand"
   ]
  },
  {
   "cell_type": "markdown",
   "id": "60b16774",
   "metadata": {},
   "source": [
    "1. if we give it no dimentions it will return a random number in range [0, 1)  \n",
    "2. if we give it dimentions it will create an array with the given dimentions and each cell is a random number in range [0, 1) "
   ]
  },
  {
   "cell_type": "code",
   "execution_count": null,
   "id": "9d1c08b6",
   "metadata": {},
   "outputs": [],
   "source": [
    "random_float = np.random.rand()\n",
    "print(random_float)\n",
    "random_arr = np.random.rand(2, 4)\n",
    "print(random_arr)"
   ]
  },
  {
   "cell_type": "markdown",
   "id": "209cbcef",
   "metadata": {},
   "source": [
    "## Creating an array using empty"
   ]
  },
  {
   "cell_type": "code",
   "execution_count": null,
   "id": "bf0c476a",
   "metadata": {},
   "outputs": [],
   "source": [
    "empty_array = np.empty((2, 3))\n",
    "print(empty_array)"
   ]
  },
  {
   "cell_type": "markdown",
   "id": "674bda36",
   "metadata": {},
   "source": [
    "## Creating an array using full"
   ]
  },
  {
   "cell_type": "code",
   "execution_count": null,
   "id": "3830cc2b",
   "metadata": {},
   "outputs": [],
   "source": [
    "arr_full = np.full((5, 4), 2+5j, dtype=np.complex64)\n",
    "print(arr_full)"
   ]
  },
  {
   "cell_type": "code",
   "execution_count": null,
   "id": "5007ad8e",
   "metadata": {},
   "outputs": [],
   "source": [
    "arr_log = np.logspace(10, 100, num=10, base=10.0, endpoint=True)\n",
    "print(arr_log)\n"
   ]
  },
  {
   "cell_type": "markdown",
   "id": "e7678578",
   "metadata": {},
   "source": [
    "## Other methods for creating arrays and matrices "
   ]
  },
  {
   "cell_type": "markdown",
   "id": "58b98593",
   "metadata": {},
   "source": [
    "### eye"
   ]
  },
  {
   "cell_type": "code",
   "execution_count": null,
   "id": "bc2f86c9",
   "metadata": {},
   "outputs": [],
   "source": [
    "print(np.eye(3, dtype=complex), \"\\n\")\n",
    "print(np.eye(3, 5), \"\\n\")\n",
    "print(np.eye(3, 4, k=1, dtype=np.int32), \"\\n\") #diagonal offset \n",
    "\n"
   ]
  },
  {
   "cell_type": "markdown",
   "id": "a9a5fac9",
   "metadata": {},
   "source": [
    "### identity"
   ]
  },
  {
   "cell_type": "code",
   "execution_count": null,
   "id": "d684ebf3",
   "metadata": {},
   "outputs": [],
   "source": [
    "print(np.identity(3), \"\\n\")\n",
    "print(np.identity(5, dtype=np.int32), \"\\n\")"
   ]
  },
  {
   "cell_type": "markdown",
   "id": "18361d7e",
   "metadata": {},
   "source": [
    "### diag"
   ]
  },
  {
   "cell_type": "code",
   "execution_count": null,
   "id": "0941aba1",
   "metadata": {},
   "outputs": [],
   "source": [
    "print(np.diag([1, 2, 3]), \"\\n\")\n",
    "print(np.diag([5, 6, 7, 8], k = 1), \"\\n\")\n",
    "import numpy as np\n",
    "\n",
    "arr = np.array([\n",
    "    [0, 5, 0, 0, 0],\n",
    "    [1, 0, 6, 0, 0],\n",
    "    [0, 2, 0, 7, 0],\n",
    "    [0, 0, 3, 0, 8],\n",
    "    [0, 0, 0, 4, 0]\n",
    "])\n",
    "\n",
    "print(np.diag(arr, k = -1)) #returns numers of the k-th anti digonal of the input\n"
   ]
  },
  {
   "cell_type": "markdown",
   "id": "086f0336",
   "metadata": {},
   "source": [
    "### fromfunction\n",
    "\n",
    "- number of function inputs must match the number of dimension of the array"
   ]
  },
  {
   "cell_type": "code",
   "execution_count": null,
   "id": "1890b807",
   "metadata": {},
   "outputs": [],
   "source": [
    "checker = np.fromfunction(lambda i, j: (i + j) % 5 , (8, 8), dtype=int)\n",
    "print(checker, \"\\n\")\n",
    "\n",
    "def f(i, j):\n",
    "    return i + j\n",
    "\n",
    "print(np.fromfunction(f, (3, 3), dtype=np.complex64))\n",
    "\n",
    "# incorrect example for fromfunction\n",
    "_='''\n",
    "def f(i, j, k):  # ❌ too many\n",
    "    return i + j + k\n",
    "np.fromfunction(f, (3, 3))  # ❌ will raise TypeError\n",
    "'''\n"
   ]
  },
  {
   "cell_type": "markdown",
   "id": "c441eff8",
   "metadata": {},
   "source": [
    "### like methods "
   ]
  },
  {
   "cell_type": "code",
   "execution_count": null,
   "id": "2e70367a",
   "metadata": {},
   "outputs": [],
   "source": [
    "a = np.array([[1, 2, 3],\n",
    "              [4, 5, 6], \n",
    "              [9, 8, 7]])\n",
    "\n",
    "z = np.zeros_like(a)\n",
    "o = np.ones_like(a)\n",
    "e = np.empty_like(a)\n",
    "f = np.full_like(a, fill_value=2)\n",
    "print(z, \"\\n\")\n",
    "print(o, \"\\n\")\n",
    "print(e, \"\\n\")\n",
    "print(f, \"\\n\")\n"
   ]
  },
  {
   "cell_type": "markdown",
   "id": "5ce88b92",
   "metadata": {},
   "source": [
    "### random methods"
   ]
  },
  {
   "cell_type": "code",
   "execution_count": null,
   "id": "8c88a369",
   "metadata": {},
   "outputs": [],
   "source": [
    "# Generates random floats in a given shape\n",
    "a = np.random.rand(3, 4)\n",
    "print(a, \"\\n\")\n",
    "# Samples from a standard normal distribution\n",
    "b = np.random.randn(3, 5)\n",
    "print(b, \"\\n\")\n",
    "# Generates random integers between low (inclusive) and high (exclusive)\n",
    "c = np.random.randint(10, 20, size=4)\n",
    "print(c, \"\\n\")\n",
    "# Generates random floats in [0.0, 1.0)\n",
    "d = np.random.random((2, 2))\n",
    "print(d, \"\\n\")"
   ]
  },
  {
   "cell_type": "code",
   "execution_count": null,
   "id": "fde33970",
   "metadata": {},
   "outputs": [],
   "source": []
  }
 ],
 "metadata": {
  "kernelspec": {
   "display_name": "Python 3",
   "language": "python",
   "name": "python3"
  },
  "language_info": {
   "codemirror_mode": {
    "name": "ipython",
    "version": 3
   },
   "file_extension": ".py",
   "mimetype": "text/x-python",
   "name": "python",
   "nbconvert_exporter": "python",
   "pygments_lexer": "ipython3",
   "version": "3.11.4"
  }
 },
 "nbformat": 4,
 "nbformat_minor": 5
}
