{
 "cells": [
  {
   "cell_type": "markdown",
   "metadata": {},
   "source": [
    "# Practice: NumPy Iteration Exercises\n",
    "Try to solve each task below and validate your solution using assertions."
   ]
  },
  {
   "cell_type": "code",
   "execution_count": 10,
   "metadata": {},
   "outputs": [],
   "source": [
    "import numpy as np"
   ]
  },
  {
   "cell_type": "markdown",
   "metadata": {},
   "source": [
    "## Exercise 1: Sum all elements\n",
    "Compute the sum of all elements in a 2D array using `np.nditer`."
   ]
  },
  {
   "cell_type": "code",
   "execution_count": null,
   "metadata": {},
   "outputs": [],
   "source": [
    "arr = np.array([[1,2,3],[4,5,6]])\n",
    "# method 1 \n",
    "Sum = arr.sum()\n",
    "#method 2 \n",
    "sum = 0\n",
    "for x in np.nditer(arr) : \n",
    "    sum += x \n",
    "    \n",
    "print(Sum, sum)"
   ]
  },
  {
   "cell_type": "markdown",
   "metadata": {},
   "source": [
    "## Exercise 2: Double values in-place\n",
    "Double each element of a 1D array using `op_flags=['readwrite']`."
   ]
  },
  {
   "cell_type": "code",
   "execution_count": 17,
   "metadata": {},
   "outputs": [
    {
     "name": "stdout",
     "output_type": "stream",
     "text": [
      "[0 1 2 3 4 5 6] \n",
      "-------------\n",
      "[ 0  2  4  6  8 10 12]\n"
     ]
    }
   ],
   "source": [
    "arr = np.arange(7)\n",
    "print(arr, \"\\n-------------\")\n",
    "with np.nditer(arr, op_flags=['readwrite']) as it:\n",
    "    for x in it:\n",
    "        x[...] = x * 2 #modifies the original value of x and not just a copy of it \n",
    "        \n",
    "print(arr)"
   ]
  },
  {
   "cell_type": "markdown",
   "metadata": {},
   "source": [
    "## Exercise 3: Flat iterator\n",
    "Use `arr.flat` to convert a 3×3 array into a list."
   ]
  },
  {
   "cell_type": "code",
   "execution_count": 37,
   "metadata": {},
   "outputs": [
    {
     "name": "stdout",
     "output_type": "stream",
     "text": [
      "[[0 1 2]\n",
      " [3 4 5]\n",
      " [6 7 8]]\n",
      "[0, 1, 2, 3, 4, 5, 6, 7, 8]\n",
      "0 1 2 3 4 5 6 7 8 \n",
      " [0, 1, 2, 3, 4, 5, 6, 7, 8]\n"
     ]
    }
   ],
   "source": [
    "arr = np.arange(9).reshape(3,3)\n",
    "lst = [int(x) for x in arr.flat]\n",
    "\n",
    "print(arr)\n",
    "print(lst)\n",
    "\n",
    "### using other methods like ravel \n",
    "lst = []\n",
    "for x in arr.ravel() : \n",
    "    print(x, end=\" \")\n",
    "    lst.append(int(x))\n",
    "    \n",
    "print(\"\\n\",lst)\n",
    "    "
   ]
  },
  {
   "cell_type": "markdown",
   "metadata": {},
   "source": [
    "## Exercise 4: Enumerate with indices\n",
    "Build a dict where keys are `(i,j)` and values are elements of a 2D array using `ndenumerate`."
   ]
  },
  {
   "cell_type": "code",
   "execution_count": 40,
   "metadata": {},
   "outputs": [],
   "source": [
    "arr = np.array([[10,20,30],[40,50,60], [70, 80, 90]])\n",
    "d = {}\n",
    "for idx, x in np.ndenumerate(arr):\n",
    "    d[idx] = int(x)"
   ]
  },
  {
   "cell_type": "markdown",
   "metadata": {},
   "source": [
    "## Bonus: Skip every other column\n",
    "Using `nditer`, print elements from every 2nd column of a 2×6 array."
   ]
  },
  {
   "cell_type": "code",
   "execution_count": 43,
   "metadata": {},
   "outputs": [
    {
     "name": "stdout",
     "output_type": "stream",
     "text": [
      "[1, 3, 5, 7, 9, 11]\n"
     ]
    }
   ],
   "source": [
    "arr = np.arange(12).reshape(2,6)\n",
    "res = [int(x) for x in np.nditer(arr[:, 1::2])]\n",
    "print(res)"
   ]
  }
 ],
 "metadata": {
  "kernelspec": {
   "display_name": "Python 3",
   "language": "python",
   "name": "python3"
  },
  "language_info": {
   "codemirror_mode": {
    "name": "ipython",
    "version": 3
   },
   "file_extension": ".py",
   "mimetype": "text/x-python",
   "name": "python",
   "nbconvert_exporter": "python",
   "pygments_lexer": "ipython3",
   "version": "3.11.4"
  }
 },
 "nbformat": 4,
 "nbformat_minor": 5
}
