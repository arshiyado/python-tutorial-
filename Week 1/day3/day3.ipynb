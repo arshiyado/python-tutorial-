{
 "cells": [
  {
   "cell_type": "markdown",
   "id": "7d6b6457",
   "metadata": {},
   "source": [
    "# NumPy Array Manipulation - Examples with Comments"
   ]
  },
  {
   "cell_type": "markdown",
   "id": "f63ecb62",
   "metadata": {},
   "source": [
    "This notebook includes **examples and comments** for each function/method from the TutorialsPoint NumPy Array Manipulation guide."
   ]
  },
  {
   "cell_type": "code",
   "execution_count": null,
   "id": "51dbe74f",
   "metadata": {},
   "outputs": [],
   "source": [
    "import numpy as np "
   ]
  },
  {
   "cell_type": "markdown",
   "id": "65f0e4a4",
   "metadata": {},
   "source": [
    "## `reshape`"
   ]
  },
  {
   "cell_type": "code",
   "execution_count": null,
   "id": "04c90256",
   "metadata": {},
   "outputs": [],
   "source": [
    "# Reshapes an array without changing its data\n",
    "a = np.arange(6)\n",
    "print('a:\\n', a, \"\\n\")\n",
    "print('Reshaped: \\n', a.reshape((2, 3))) "
   ]
  },
  {
   "cell_type": "markdown",
   "id": "80797be2",
   "metadata": {},
   "source": [
    "## `flatten`"
   ]
  },
  {
   "cell_type": "code",
   "execution_count": null,
   "id": "66a35966",
   "metadata": {},
   "outputs": [],
   "source": [
    "# Returns a copy of the array collapsed into one dimension\n",
    "a = np.array([[1, 2, 3], [4, 5, 6]])\n",
    "print('a:\\n', a, \"\\n\")\n",
    "print('Flattened:', a.flatten())"
   ]
  },
  {
   "cell_type": "markdown",
   "id": "bbfd5f9d",
   "metadata": {},
   "source": [
    "## `ravel`"
   ]
  },
  {
   "cell_type": "code",
   "execution_count": null,
   "id": "f6bbd940",
   "metadata": {},
   "outputs": [],
   "source": [
    "# Returns a flattened view of the array (if possible)\n",
    "a = np.array([[1, 2], [3, 4]])\n",
    "print('a:\\n', a, \"\\n\")\n",
    "print('Raveled:', a.ravel())"
   ]
  },
  {
   "cell_type": "markdown",
   "id": "f45873c7",
   "metadata": {},
   "source": [
    "## `transpose`"
   ]
  },
  {
   "cell_type": "code",
   "execution_count": null,
   "id": "3835e0f0",
   "metadata": {},
   "outputs": [],
   "source": [
    "# Permutes the dimensions of an array\n",
    "a = np.array([[1, 2, 3], [4, 5, 6]])\n",
    "print('a:\\n', a, \"\\n\")\n",
    "print('Transposed: \\n', np.transpose(a))"
   ]
  },
  {
   "cell_type": "markdown",
   "id": "18e2f4e8",
   "metadata": {},
   "source": [
    "## `T`"
   ]
  },
  {
   "cell_type": "code",
   "execution_count": null,
   "id": "3e876b3c",
   "metadata": {},
   "outputs": [],
   "source": [
    "# Equivalent to transpose for 2D arrays\n",
    "a = np.array([[1, 2], [3, 4]])\n",
    "print('a:\\n', a, \"\\n\")\n",
    "print('Transposed using .T:\\n', a.T)"
   ]
  },
  {
   "cell_type": "markdown",
   "id": "a85477e0",
   "metadata": {},
   "source": [
    "## `swapaxes`"
   ]
  },
  {
   "cell_type": "code",
   "execution_count": null,
   "id": "47b0345e",
   "metadata": {},
   "outputs": [],
   "source": [
    "# Swaps two axes in an array\n",
    "a = np.array([[[0,1],[2,3]],[[4,5],[6,7]]])\n",
    "print(\"ndim: \", a.ndim, \"dims: \", a.shape, \"\\n\")\n",
    "print('a:\\n', a, \"\\n\")\n",
    "print('Swapped Axes (0,2):\\n', np.swapaxes(a, 0, 2))"
   ]
  },
  {
   "cell_type": "markdown",
   "id": "070c7026",
   "metadata": {},
   "source": [
    "## `broadcast`"
   ]
  },
  {
   "cell_type": "code",
   "execution_count": null,
   "id": "fd816999",
   "metadata": {},
   "outputs": [],
   "source": [
    "# Demonstrates implicit broadcasting in arithmetic operations\n",
    "a = np.array([1,2,3])\n",
    "b = np.array([[0],[1],[2]])\n",
    "print('a:\\n', a, \"\\n\")\n",
    "print('b:\\n', b, \"\\n\")\n",
    "print('Broadcasted Sum:\\n', a + b)"
   ]
  },
  {
   "cell_type": "markdown",
   "id": "775d5253",
   "metadata": {},
   "source": [
    "## `broadcast_to`"
   ]
  },
  {
   "cell_type": "code",
   "execution_count": null,
   "id": "098c6040",
   "metadata": {},
   "outputs": [],
   "source": [
    "# Explicitly broadcast an array to a given shape\n",
    "a = np.array([1,2,3,4])\n",
    "print('Broadcast to (3,3):\\n', np.broadcast_to(a, (5,4)))"
   ]
  },
  {
   "cell_type": "markdown",
   "id": "397a4560",
   "metadata": {},
   "source": [
    "## `expand_dims`"
   ]
  },
  {
   "cell_type": "code",
   "execution_count": null,
   "id": "f19a29d1",
   "metadata": {},
   "outputs": [],
   "source": [
    "# Adds a new axis to an array\n",
    "a = np.array([1, 2])\n",
    "print('Expanded dims:\\n', np.expand_dims(a, axis=0), \"\\n\")\n",
    "print('Expanded dims:\\n', np.expand_dims(a, axis=1), \"\\n\")\n"
   ]
  },
  {
   "cell_type": "markdown",
   "id": "830d104f",
   "metadata": {},
   "source": [
    "## `squeeze`"
   ]
  },
  {
   "cell_type": "code",
   "execution_count": null,
   "id": "3344aada",
   "metadata": {},
   "outputs": [
    {
     "name": "stdout",
     "output_type": "stream",
     "text": [
      "a:\n",
      " [[[0 1 2 3 4 5]]] \n",
      " (1, 1, 6)\n",
      "Squeezed:\n",
      " [0 1 2 3 4 5] \n",
      " (6,)\n"
     ]
    }
   ],
   "source": [
    "# Removes single-dimensional entries from the shape\n",
    "a = np.arange(6).reshape((2, 1, 3))\n",
    "print('a:\\n', a, \"\\n\", a.shape)\n",
    "print('Squeezed:\\n', np.squeeze(a), \"\\n\",np.squeeze(a).shape)"
   ]
  },
  {
   "cell_type": "markdown",
   "id": "33620305",
   "metadata": {},
   "source": [
    "## `concatenate`"
   ]
  },
  {
   "cell_type": "code",
   "execution_count": null,
   "id": "0513d052",
   "metadata": {},
   "outputs": [],
   "source": [
    "# Joins a sequence of arrays along an existing axis\n",
    "b = np.array([[5, 6], [7, 8]])\n",
    "a = np.array([[1, 2], [3, 4]])\n",
    "print('Concatenated:\\n', np.concatenate((b, a), axis=0))"
   ]
  },
  {
   "cell_type": "markdown",
   "id": "6e14284d",
   "metadata": {},
   "source": [
    "## `stack`"
   ]
  },
  {
   "cell_type": "code",
   "execution_count": 96,
   "id": "946cc9b0",
   "metadata": {},
   "outputs": [
    {
     "name": "stdout",
     "output_type": "stream",
     "text": [
      "Stacked:\n",
      " [[1 2]\n",
      " [3 4]]\n"
     ]
    }
   ],
   "source": [
    "# Stacks arrays along a new axis\n",
    "a = np.array([1, 2])\n",
    "b = np.array([3, 4])\n",
    "print('Stacked:\\n', np.stack((a, b)))"
   ]
  },
  {
   "cell_type": "markdown",
   "id": "bda60a11",
   "metadata": {},
   "source": [
    "## `hstack`"
   ]
  },
  {
   "cell_type": "code",
   "execution_count": null,
   "id": "19a25515",
   "metadata": {},
   "outputs": [],
   "source": [
    "# Stacks arrays in sequence horizontally (column-wise)\n",
    "a = np.array((1,2,3))\n",
    "print(a)\n",
    "b = np.array((4,5,6))\n",
    "print(b)\n",
    "print('Horizontally Stacked:', np.hstack((a,b)))"
   ]
  },
  {
   "cell_type": "markdown",
   "id": "3b0087a3",
   "metadata": {},
   "source": [
    "## `vstack`"
   ]
  },
  {
   "cell_type": "code",
   "execution_count": null,
   "id": "1341e15d",
   "metadata": {},
   "outputs": [],
   "source": [
    "# Stacks arrays in sequence vertically (row-wise)\n",
    "a = np.array((1,2,3))\n",
    "b = np.array((4,5,6))\n",
    "print('Vertically Stacked:\\n', np.vstack((a,b)))"
   ]
  },
  {
   "cell_type": "markdown",
   "id": "a64554ab",
   "metadata": {},
   "source": [
    "## `dstack`"
   ]
  },
  {
   "cell_type": "code",
   "execution_count": null,
   "id": "7e81600d",
   "metadata": {},
   "outputs": [],
   "source": [
    "# Stacks arrays in sequence depth-wise (along third axis)\n",
    "a = np.array((1,2,3))\n",
    "b = np.array((4,5,6))\n",
    "print('Depth Stacked:\\n', np.dstack((a,b)))"
   ]
  },
  {
   "cell_type": "markdown",
   "id": "abeb2375",
   "metadata": {},
   "source": [
    "## `column_stack`"
   ]
  },
  {
   "cell_type": "code",
   "execution_count": null,
   "id": "1820a997",
   "metadata": {},
   "outputs": [],
   "source": [
    "# Stacks 1D arrays as columns into a 2D array\n",
    "a = np.array((1,2,3))\n",
    "b = np.array((4,5,6))\n",
    "print('Column Stacked:\\n', np.column_stack((a,b)))"
   ]
  },
  {
   "cell_type": "markdown",
   "id": "54c1acb2",
   "metadata": {},
   "source": [
    "## `split`"
   ]
  },
  {
   "cell_type": "code",
   "execution_count": null,
   "id": "6d61f982",
   "metadata": {},
   "outputs": [],
   "source": [
    "# Splits array into multiple sub-arrays\n",
    "a = np.arange(9)\n",
    "\n",
    "for i in range(0, 9, 1) : \n",
    "    print(i + 1 ,\":\" ,np.split(a, 9)[i])\n",
    "\n",
    "print(\"---------------\")\n",
    "\n",
    "for i in range(0, 3, 1) : \n",
    "    print(i + 1 ,\":\" ,np.split(a, 3)[i])"
   ]
  },
  {
   "cell_type": "markdown",
   "id": "f206d840",
   "metadata": {},
   "source": [
    "## `hsplit`"
   ]
  },
  {
   "cell_type": "code",
   "execution_count": null,
   "id": "f8e31196",
   "metadata": {},
   "outputs": [],
   "source": [
    "# Splits array into multiple sub-arrays horizontally (column-wise)\n",
    "a = np.arange(16).reshape(4,4)\n",
    "print('Horizontally Split:\\n', np.hsplit(a,2))"
   ]
  },
  {
   "cell_type": "markdown",
   "id": "a26c05b8",
   "metadata": {},
   "source": [
    "## `vsplit`"
   ]
  },
  {
   "cell_type": "code",
   "execution_count": null,
   "id": "bb5243d9",
   "metadata": {},
   "outputs": [],
   "source": [
    "# Splits array into multiple sub-arrays vertically (row-wise)\n",
    "a = np.arange(16).reshape(4,4)\n",
    "print('Vertically Split:\\n', np.vsplit(a,2))"
   ]
  },
  {
   "cell_type": "markdown",
   "id": "a97819f6",
   "metadata": {},
   "source": [
    "## `dsplit`"
   ]
  },
  {
   "cell_type": "code",
   "execution_count": null,
   "id": "31ee54f8",
   "metadata": {},
   "outputs": [],
   "source": [
    "# Splits array into multiple sub-arrays along the third axis\n",
    "a = np.arange(16).reshape(2,2,4)\n",
    "print('Depth Split:\\n', np.dsplit(a,2))"
   ]
  },
  {
   "cell_type": "markdown",
   "id": "9652b1fa",
   "metadata": {},
   "source": [
    "## `resize`"
   ]
  },
  {
   "cell_type": "code",
   "execution_count": null,
   "id": "2acdab2b",
   "metadata": {},
   "outputs": [],
   "source": [
    "# Resizes an array in-place (modifies original array)\n",
    "a = np.array([[1,2],[3,4]])\n",
    "a.resize((2,3))\n",
    "print('Resized: \\n', a)"
   ]
  },
  {
   "cell_type": "markdown",
   "id": "db663cad",
   "metadata": {},
   "source": [
    "## `append`"
   ]
  },
  {
   "cell_type": "code",
   "execution_count": null,
   "id": "c3317340",
   "metadata": {},
   "outputs": [],
   "source": [
    "# Appends values to the end of an array\n",
    "a = np.array([[1, 2], [3, 4]])\n",
    "print('Appended: \\n', np.append(a, [[5, 6]], axis=0))"
   ]
  },
  {
   "cell_type": "markdown",
   "id": "d8a1b876",
   "metadata": {},
   "source": [
    "## `insert`"
   ]
  },
  {
   "cell_type": "code",
   "execution_count": null,
   "id": "cb7a1d62",
   "metadata": {},
   "outputs": [],
   "source": [
    "# Inserts values into an array at specified indices\n",
    "a = np.array([[1, 2], [3, 4]])\n",
    "print('Inserted: \\n', np.insert(a, 1, [10, 10], axis=0))"
   ]
  },
  {
   "cell_type": "markdown",
   "id": "942a8283",
   "metadata": {},
   "source": [
    "## `delete`"
   ]
  },
  {
   "cell_type": "code",
   "execution_count": null,
   "id": "b6f7a9ed",
   "metadata": {},
   "outputs": [],
   "source": [
    "# Deletes specified sub-arrays from an array\n",
    "a = np.array([[1, 2], [3, 4]])\n",
    "print('Deleted:', np.delete(a, 1, axis=0))"
   ]
  },
  {
   "cell_type": "markdown",
   "id": "bfa1a2f1",
   "metadata": {},
   "source": [
    "## `unique`"
   ]
  },
  {
   "cell_type": "code",
   "execution_count": null,
   "id": "8594b6b1",
   "metadata": {},
   "outputs": [],
   "source": [
    "# Finds the unique elements of an array\n",
    "a = np.array([1,2,1,3,2])\n",
    "print('Unique:', np.unique(a))"
   ]
  },
  {
   "cell_type": "code",
   "execution_count": null,
   "id": "6dc4e76e",
   "metadata": {},
   "outputs": [],
   "source": []
  }
 ],
 "metadata": {
  "kernelspec": {
   "display_name": "Python 3",
   "language": "python",
   "name": "python3"
  },
  "language_info": {
   "codemirror_mode": {
    "name": "ipython",
    "version": 3
   },
   "file_extension": ".py",
   "mimetype": "text/x-python",
   "name": "python",
   "nbconvert_exporter": "python",
   "pygments_lexer": "ipython3",
   "version": "3.11.4"
  }
 },
 "nbformat": 4,
 "nbformat_minor": 5
}
