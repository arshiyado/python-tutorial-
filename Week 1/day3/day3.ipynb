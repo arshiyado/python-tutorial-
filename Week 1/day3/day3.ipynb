{
 "cells": [
  {
   "cell_type": "markdown",
   "id": "7d6b6457",
   "metadata": {},
   "source": [
    "# NumPy Array Manipulation - Examples with Comments"
   ]
  },
  {
   "cell_type": "markdown",
   "id": "f63ecb62",
   "metadata": {},
   "source": [
    "This notebook includes **examples and comments** for each function/method from the TutorialsPoint NumPy Array Manipulation guide."
   ]
  },
  {
   "cell_type": "code",
   "execution_count": 2,
   "id": "51dbe74f",
   "metadata": {},
   "outputs": [],
   "source": [
    "import numpy as np "
   ]
  },
  {
   "cell_type": "markdown",
   "id": "65f0e4a4",
   "metadata": {},
   "source": [
    "## `reshape`"
   ]
  },
  {
   "cell_type": "code",
   "execution_count": 5,
   "id": "04c90256",
   "metadata": {},
   "outputs": [
    {
     "name": "stdout",
     "output_type": "stream",
     "text": [
      "a:\n",
      " [0 1 2 3 4 5] \n",
      "\n",
      "Reshaped: \n",
      " [[0 1 2]\n",
      " [3 4 5]]\n"
     ]
    }
   ],
   "source": [
    "# Reshapes an array without changing its data\n",
    "a = np.arange(6)\n",
    "print('a:\\n', a, \"\\n\")\n",
    "print('Reshaped: \\n', a.reshape((2, 3)))"
   ]
  },
  {
   "cell_type": "markdown",
   "id": "80797be2",
   "metadata": {},
   "source": [
    "## `flatten`"
   ]
  },
  {
   "cell_type": "code",
   "execution_count": 6,
   "id": "66a35966",
   "metadata": {},
   "outputs": [
    {
     "name": "stdout",
     "output_type": "stream",
     "text": [
      "a:\n",
      " [[1 2 3]\n",
      " [4 5 6]] \n",
      "\n",
      "Flattened: [1 2 3 4 5 6]\n"
     ]
    }
   ],
   "source": [
    "# Returns a copy of the array collapsed into one dimension\n",
    "a = np.array([[1, 2, 3], [4, 5, 6]])\n",
    "print('a:\\n', a, \"\\n\")\n",
    "print('Flattened:', a.flatten())"
   ]
  },
  {
   "cell_type": "markdown",
   "id": "bbfd5f9d",
   "metadata": {},
   "source": [
    "## `ravel`"
   ]
  },
  {
   "cell_type": "code",
   "execution_count": 10,
   "id": "f6bbd940",
   "metadata": {},
   "outputs": [
    {
     "name": "stdout",
     "output_type": "stream",
     "text": [
      "a:\n",
      " [[1 2]\n",
      " [3 4]] \n",
      "\n",
      "Raveled: [1 2 3 4]\n"
     ]
    }
   ],
   "source": [
    "# Returns a flattened view of the array (if possible)\n",
    "a = np.array([[1, 2], [3, 4]])\n",
    "print('a:\\n', a, \"\\n\")\n",
    "print('Raveled:', a.ravel())"
   ]
  },
  {
   "cell_type": "markdown",
   "id": "f45873c7",
   "metadata": {},
   "source": [
    "## `transpose`"
   ]
  },
  {
   "cell_type": "code",
   "execution_count": 5,
   "id": "3835e0f0",
   "metadata": {},
   "outputs": [
    {
     "name": "stdout",
     "output_type": "stream",
     "text": [
      "a:\n",
      " [[1 2 3]\n",
      " [4 5 6]] \n",
      "\n",
      "Transposed: \n",
      " [[1 4]\n",
      " [2 5]\n",
      " [3 6]]\n"
     ]
    }
   ],
   "source": [
    "# Permutes the dimensions of an array\n",
    "a = np.array([[1, 2, 3], [4, 5, 6]])\n",
    "print('a:\\n', a, \"\\n\")\n",
    "print('Transposed: \\n', np.transpose(a))"
   ]
  },
  {
   "cell_type": "markdown",
   "id": "18e2f4e8",
   "metadata": {},
   "source": [
    "## `T`"
   ]
  },
  {
   "cell_type": "code",
   "execution_count": 8,
   "id": "3e876b3c",
   "metadata": {},
   "outputs": [
    {
     "name": "stdout",
     "output_type": "stream",
     "text": [
      "a:\n",
      " [[1 2]\n",
      " [3 4]] \n",
      "\n",
      "Transposed using .T:\n",
      " [[1 3]\n",
      " [2 4]]\n"
     ]
    }
   ],
   "source": [
    "# Equivalent to transpose for 2D arrays\n",
    "a = np.array([[1, 2], [3, 4]])\n",
    "print('a:\\n', a, \"\\n\")\n",
    "print('Transposed using .T:\\n', a.T)"
   ]
  },
  {
   "cell_type": "markdown",
   "id": "a85477e0",
   "metadata": {},
   "source": [
    "## `swapaxes`"
   ]
  },
  {
   "cell_type": "code",
   "execution_count": 14,
   "id": "47b0345e",
   "metadata": {},
   "outputs": [
    {
     "name": "stdout",
     "output_type": "stream",
     "text": [
      "ndim:  3 dims:  (2, 2, 2) \n",
      "\n",
      "a:\n",
      " [[[0 1]\n",
      "  [2 3]]\n",
      "\n",
      " [[4 5]\n",
      "  [6 7]]] \n",
      "\n",
      "Swapped Axes (0,2):\n",
      " [[[0 4]\n",
      "  [2 6]]\n",
      "\n",
      " [[1 5]\n",
      "  [3 7]]]\n"
     ]
    }
   ],
   "source": [
    "# Swaps two axes in an array\n",
    "a = np.array([[[0,1],[2,3]],[[4,5],[6,7]]])\n",
    "print(\"ndim: \", a.ndim, \"dims: \", a.shape, \"\\n\")\n",
    "print('a:\\n', a, \"\\n\")\n",
    "print('Swapped Axes (0,2):\\n', np.swapaxes(a, 0, 2))"
   ]
  },
  {
   "cell_type": "markdown",
   "id": "070c7026",
   "metadata": {},
   "source": [
    "## `broadcast`"
   ]
  },
  {
   "cell_type": "code",
   "execution_count": 20,
   "id": "fd816999",
   "metadata": {},
   "outputs": [
    {
     "name": "stdout",
     "output_type": "stream",
     "text": [
      "a:\n",
      " [1 2 3] \n",
      "\n",
      "b:\n",
      " [[0]\n",
      " [1]\n",
      " [2]] \n",
      "\n",
      "Broadcasted Sum:\n",
      " [[1 2 3]\n",
      " [2 3 4]\n",
      " [3 4 5]]\n"
     ]
    }
   ],
   "source": [
    "# Demonstrates implicit broadcasting in arithmetic operations\n",
    "a = np.array([1,2,3])\n",
    "b = np.array([[0],[1],[2]])\n",
    "print('a:\\n', a, \"\\n\")\n",
    "print('b:\\n', b, \"\\n\")\n",
    "print('Broadcasted Sum:\\n', a + b)"
   ]
  },
  {
   "cell_type": "markdown",
   "id": "775d5253",
   "metadata": {},
   "source": [
    "## `broadcast_to`"
   ]
  },
  {
   "cell_type": "code",
   "execution_count": null,
   "id": "098c6040",
   "metadata": {},
   "outputs": [
    {
     "name": "stdout",
     "output_type": "stream",
     "text": [
      "Broadcast to (3,3):\n",
      " [[1 2 3 4]\n",
      " [1 2 3 4]\n",
      " [1 2 3 4]\n",
      " [1 2 3 4]\n",
      " [1 2 3 4]]\n"
     ]
    }
   ],
   "source": [
    "# Explicitly broadcast an array to a given shape\n",
    "a = np.array([1,2,3,4])\n",
    "print('Broadcast to (3,3):\\n', np.broadcast_to(a, (5,4)))"
   ]
  },
  {
   "cell_type": "markdown",
   "id": "397a4560",
   "metadata": {},
   "source": [
    "## `expand_dims`"
   ]
  },
  {
   "cell_type": "code",
   "execution_count": 32,
   "id": "f19a29d1",
   "metadata": {},
   "outputs": [
    {
     "name": "stdout",
     "output_type": "stream",
     "text": [
      "Expanded dims:\n",
      " [[1 2]] \n",
      "\n",
      "Expanded dims:\n",
      " [[1]\n",
      " [2]] \n",
      "\n"
     ]
    }
   ],
   "source": [
    "# Adds a new axis to an array\n",
    "a = np.array([1, 2])\n",
    "print('Expanded dims:\\n', np.expand_dims(a, axis=0), \"\\n\")\n",
    "print('Expanded dims:\\n', np.expand_dims(a, axis=1), \"\\n\")\n"
   ]
  },
  {
   "cell_type": "markdown",
   "id": "830d104f",
   "metadata": {},
   "source": [
    "## `squeeze`"
   ]
  },
  {
   "cell_type": "code",
   "execution_count": 48,
   "id": "3344aada",
   "metadata": {},
   "outputs": [
    {
     "name": "stdout",
     "output_type": "stream",
     "text": [
      "a:\n",
      " [[[1 2 3]\n",
      "  [4 5 6]]] \n",
      " (1, 2, 3)\n",
      "Squeezed:\n",
      " [[1 2 3]\n",
      " [4 5 6]] \n",
      " (2, 3)\n"
     ]
    }
   ],
   "source": [
    "# Removes single-dimensional entries from the shape\n",
    "a = np.array([[[1,2,3], [4, 5 ,6]]])\n",
    "print('a:\\n', a, \"\\n\", a.shape)\n",
    "print('Squeezed:\\n', np.squeeze(a), \"\\n\",np.squeeze(a).shape)"
   ]
  },
  {
   "cell_type": "markdown",
   "id": "33620305",
   "metadata": {},
   "source": [
    "## `concatenate`"
   ]
  },
  {
   "cell_type": "code",
   "execution_count": 54,
   "id": "0513d052",
   "metadata": {},
   "outputs": [
    {
     "name": "stdout",
     "output_type": "stream",
     "text": [
      "Concatenated:\n",
      " [[5 6]\n",
      " [7 8]\n",
      " [1 2]\n",
      " [3 4]]\n"
     ]
    }
   ],
   "source": [
    "# Joins a sequence of arrays along an existing axis\n",
    "b = np.array([[5, 6], [7, 8]])\n",
    "a = np.array([[1, 2], [3, 4]])\n",
    "print('Concatenated:\\n', np.concatenate((b, a), axis=0))"
   ]
  },
  {
   "cell_type": "markdown",
   "id": "6e14284d",
   "metadata": {},
   "source": [
    "## `stack`"
   ]
  },
  {
   "cell_type": "code",
   "execution_count": 56,
   "id": "946cc9b0",
   "metadata": {},
   "outputs": [
    {
     "name": "stdout",
     "output_type": "stream",
     "text": [
      "Stacked:\n",
      " [[1 2]\n",
      " [3 4]]\n"
     ]
    }
   ],
   "source": [
    "# Stacks arrays along a new axis\n",
    "a = np.array([1, 2])\n",
    "b = np.array([3, 4])\n",
    "print('Stacked:\\n', np.stack((a, b)))"
   ]
  },
  {
   "cell_type": "markdown",
   "id": "bda60a11",
   "metadata": {},
   "source": [
    "## `hstack`"
   ]
  },
  {
   "cell_type": "code",
   "execution_count": 59,
   "id": "19a25515",
   "metadata": {},
   "outputs": [
    {
     "name": "stdout",
     "output_type": "stream",
     "text": [
      "[1 2 3]\n",
      "[4 5 6]\n",
      "Horizontally Stacked: [1 2 3 4 5 6]\n"
     ]
    }
   ],
   "source": [
    "# Stacks arrays in sequence horizontally (column-wise)\n",
    "a = np.array((1,2,3))\n",
    "print(a)\n",
    "b = np.array((4,5,6))\n",
    "print(b)\n",
    "print('Horizontally Stacked:', np.hstack((a,b)))"
   ]
  },
  {
   "cell_type": "markdown",
   "id": "3b0087a3",
   "metadata": {},
   "source": [
    "## `vstack`"
   ]
  },
  {
   "cell_type": "code",
   "execution_count": 61,
   "id": "1341e15d",
   "metadata": {},
   "outputs": [
    {
     "name": "stdout",
     "output_type": "stream",
     "text": [
      "Vertically Stacked:\n",
      " [[1 2 3]\n",
      " [4 5 6]]\n"
     ]
    }
   ],
   "source": [
    "# Stacks arrays in sequence vertically (row-wise)\n",
    "a = np.array((1,2,3))\n",
    "b = np.array((4,5,6))\n",
    "print('Vertically Stacked:\\n', np.vstack((a,b)))"
   ]
  },
  {
   "cell_type": "markdown",
   "id": "a64554ab",
   "metadata": {},
   "source": [
    "## `dstack`"
   ]
  },
  {
   "cell_type": "code",
   "execution_count": 62,
   "id": "7e81600d",
   "metadata": {},
   "outputs": [
    {
     "name": "stdout",
     "output_type": "stream",
     "text": [
      "Depth Stacked:\n",
      " [[[1 4]\n",
      "  [2 5]\n",
      "  [3 6]]]\n"
     ]
    }
   ],
   "source": [
    "# Stacks arrays in sequence depth-wise (along third axis)\n",
    "a = np.array((1,2,3))\n",
    "b = np.array((4,5,6))\n",
    "print('Depth Stacked:\\n', np.dstack((a,b)))"
   ]
  },
  {
   "cell_type": "markdown",
   "id": "abeb2375",
   "metadata": {},
   "source": [
    "## `column_stack`"
   ]
  },
  {
   "cell_type": "code",
   "execution_count": 64,
   "id": "1820a997",
   "metadata": {},
   "outputs": [
    {
     "name": "stdout",
     "output_type": "stream",
     "text": [
      "Column Stacked:\n",
      " [[1 4]\n",
      " [2 5]\n",
      " [3 6]]\n"
     ]
    }
   ],
   "source": [
    "# Stacks 1D arrays as columns into a 2D array\n",
    "a = np.array((1,2,3))\n",
    "b = np.array((4,5,6))\n",
    "print('Column Stacked:\\n', np.column_stack((a,b)))"
   ]
  },
  {
   "cell_type": "markdown",
   "id": "54c1acb2",
   "metadata": {},
   "source": [
    "## `split`"
   ]
  },
  {
   "cell_type": "code",
   "execution_count": 77,
   "id": "6d61f982",
   "metadata": {},
   "outputs": [
    {
     "name": "stdout",
     "output_type": "stream",
     "text": [
      "1 : [0]\n",
      "2 : [1]\n",
      "3 : [2]\n",
      "4 : [3]\n",
      "5 : [4]\n",
      "6 : [5]\n",
      "7 : [6]\n",
      "8 : [7]\n",
      "9 : [8]\n",
      "---------------\n",
      "1 : [0 1 2]\n",
      "2 : [3 4 5]\n",
      "3 : [6 7 8]\n"
     ]
    }
   ],
   "source": [
    "# Splits array into multiple sub-arrays\n",
    "a = np.arange(9)\n",
    "\n",
    "for i in range(0, 9, 1) : \n",
    "    print(i + 1 ,\":\" ,np.split(a, 9)[i])\n",
    "\n",
    "print(\"---------------\")\n",
    "\n",
    "for i in range(0, 3, 1) : \n",
    "    print(i + 1 ,\":\" ,np.split(a, 3)[i])"
   ]
  },
  {
   "cell_type": "markdown",
   "id": "f206d840",
   "metadata": {},
   "source": [
    "## `hsplit`"
   ]
  },
  {
   "cell_type": "code",
   "execution_count": 79,
   "id": "f8e31196",
   "metadata": {},
   "outputs": [
    {
     "name": "stdout",
     "output_type": "stream",
     "text": [
      "Horizontally Split:\n",
      " [array([[ 0,  1],\n",
      "       [ 4,  5],\n",
      "       [ 8,  9],\n",
      "       [12, 13]]), array([[ 2,  3],\n",
      "       [ 6,  7],\n",
      "       [10, 11],\n",
      "       [14, 15]])]\n"
     ]
    }
   ],
   "source": [
    "# Splits array into multiple sub-arrays horizontally (column-wise)\n",
    "a = np.arange(16).reshape(4,4)\n",
    "print('Horizontally Split:\\n', np.hsplit(a,2))"
   ]
  },
  {
   "cell_type": "markdown",
   "id": "a26c05b8",
   "metadata": {},
   "source": [
    "## `vsplit`"
   ]
  },
  {
   "cell_type": "code",
   "execution_count": 83,
   "id": "bb5243d9",
   "metadata": {},
   "outputs": [
    {
     "name": "stdout",
     "output_type": "stream",
     "text": [
      "Vertically Split:\n",
      " [array([[0, 1, 2, 3],\n",
      "       [4, 5, 6, 7]]), array([[ 8,  9, 10, 11],\n",
      "       [12, 13, 14, 15]])]\n"
     ]
    }
   ],
   "source": [
    "# Splits array into multiple sub-arrays vertically (row-wise)\n",
    "a = np.arange(16).reshape(4,4)\n",
    "print('Vertically Split:\\n', np.vsplit(a,2))"
   ]
  },
  {
   "cell_type": "markdown",
   "id": "a97819f6",
   "metadata": {},
   "source": [
    "## `dsplit`"
   ]
  },
  {
   "cell_type": "code",
   "execution_count": 84,
   "id": "31ee54f8",
   "metadata": {},
   "outputs": [
    {
     "name": "stdout",
     "output_type": "stream",
     "text": [
      "Depth Split:\n",
      " [array([[[ 0,  1],\n",
      "        [ 4,  5]],\n",
      "\n",
      "       [[ 8,  9],\n",
      "        [12, 13]]]), array([[[ 2,  3],\n",
      "        [ 6,  7]],\n",
      "\n",
      "       [[10, 11],\n",
      "        [14, 15]]])]\n"
     ]
    }
   ],
   "source": [
    "# Splits array into multiple sub-arrays along the third axis\n",
    "a = np.arange(16).reshape(2,2,4)\n",
    "print('Depth Split:\\n', np.dsplit(a,2))"
   ]
  },
  {
   "cell_type": "markdown",
   "id": "9652b1fa",
   "metadata": {},
   "source": [
    "## `resize`"
   ]
  },
  {
   "cell_type": "code",
   "execution_count": 86,
   "id": "2acdab2b",
   "metadata": {},
   "outputs": [
    {
     "name": "stdout",
     "output_type": "stream",
     "text": [
      "Resized: \n",
      " [[1 2 3]\n",
      " [4 0 0]]\n"
     ]
    }
   ],
   "source": [
    "# Resizes an array in-place (modifies original array)\n",
    "a = np.array([[1,2],[3,4]])\n",
    "a.resize((2,3))\n",
    "print('Resized: \\n', a)"
   ]
  },
  {
   "cell_type": "markdown",
   "id": "db663cad",
   "metadata": {},
   "source": [
    "## `append`"
   ]
  },
  {
   "cell_type": "code",
   "execution_count": 89,
   "id": "c3317340",
   "metadata": {},
   "outputs": [
    {
     "name": "stdout",
     "output_type": "stream",
     "text": [
      "Appended: \n",
      " [[1 2]\n",
      " [3 4]\n",
      " [5 6]]\n"
     ]
    }
   ],
   "source": [
    "# Appends values to the end of an array\n",
    "a = np.array([[1, 2], [3, 4]])\n",
    "print('Appended: \\n', np.append(a, [[5, 6]], axis=0))"
   ]
  },
  {
   "cell_type": "markdown",
   "id": "d8a1b876",
   "metadata": {},
   "source": [
    "## `insert`"
   ]
  },
  {
   "cell_type": "code",
   "execution_count": 90,
   "id": "cb7a1d62",
   "metadata": {},
   "outputs": [
    {
     "name": "stdout",
     "output_type": "stream",
     "text": [
      "Inserted: \n",
      " [[ 1  2]\n",
      " [10 10]\n",
      " [ 3  4]]\n"
     ]
    }
   ],
   "source": [
    "# Inserts values into an array at specified indices\n",
    "a = np.array([[1, 2], [3, 4]])\n",
    "print('Inserted: \\n', np.insert(a, 1, [10, 10], axis=0))"
   ]
  },
  {
   "cell_type": "markdown",
   "id": "942a8283",
   "metadata": {},
   "source": [
    "## `delete`"
   ]
  },
  {
   "cell_type": "code",
   "execution_count": 91,
   "id": "b6f7a9ed",
   "metadata": {},
   "outputs": [
    {
     "name": "stdout",
     "output_type": "stream",
     "text": [
      "Deleted: [[1 2]]\n"
     ]
    }
   ],
   "source": [
    "# Deletes specified sub-arrays from an array\n",
    "a = np.array([[1, 2], [3, 4]])\n",
    "print('Deleted:', np.delete(a, 1, axis=0))"
   ]
  },
  {
   "cell_type": "markdown",
   "id": "bfa1a2f1",
   "metadata": {},
   "source": [
    "## `unique`"
   ]
  },
  {
   "cell_type": "code",
   "execution_count": 92,
   "id": "8594b6b1",
   "metadata": {},
   "outputs": [
    {
     "name": "stdout",
     "output_type": "stream",
     "text": [
      "Unique: [1 2 3]\n"
     ]
    }
   ],
   "source": [
    "# Finds the unique elements of an array\n",
    "a = np.array([1,2,1,3,2])\n",
    "print('Unique:', np.unique(a))"
   ]
  },
  {
   "cell_type": "code",
   "execution_count": null,
   "id": "6dc4e76e",
   "metadata": {},
   "outputs": [],
   "source": []
  }
 ],
 "metadata": {
  "kernelspec": {
   "display_name": "Python 3",
   "language": "python",
   "name": "python3"
  },
  "language_info": {
   "codemirror_mode": {
    "name": "ipython",
    "version": 3
   },
   "file_extension": ".py",
   "mimetype": "text/x-python",
   "name": "python",
   "nbconvert_exporter": "python",
   "pygments_lexer": "ipython3",
   "version": "3.11.4"
  }
 },
 "nbformat": 4,
 "nbformat_minor": 5
}
