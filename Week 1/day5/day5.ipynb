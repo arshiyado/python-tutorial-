{
 "cells": [
  {
   "cell_type": "markdown",
   "id": "a25e2861",
   "metadata": {},
   "source": [
    "# NumPy: Sort, Search & Counting Functions\n",
    "Summary and examples based on Tutorialspoint's guide."
   ]
  },
  {
   "cell_type": "code",
   "execution_count": null,
   "id": "b945d065",
   "metadata": {},
   "outputs": [],
   "source": [
    "import numpy as np"
   ]
  },
  {
   "cell_type": "markdown",
   "id": "f1408a73",
   "metadata": {},
   "source": [
    "## numpy.sort\n",
    "Sorts an array.\n",
    "```python\n",
    "numpy.sort(a, axis=-1, kind='quicksort', order=None)\n",
    "```"
   ]
  },
  {
   "cell_type": "code",
   "execution_count": null,
   "id": "456914c6",
   "metadata": {},
   "outputs": [],
   "source": [
    "arr = np.array([[3, 2, 1], [6, 5, 4], [-1, 0, -2]])\n",
    "print(arr, \"\\n------------\")\n",
    "print(np.sort(arr, kind='heapsort', axis=1))\n",
    "\n",
    "\n",
    "dt = np.dtype([('name', 'U20'), ('age', np.int64)])\n",
    "a = np.array([(\"Arshiya\", 20), (\"Bita\", 24), (\"Hesam\", 23), (\"Ali\", 20), (\"Amin\", 22),(\"Maryam\", 19),\n",
    "              (\"Sara\", 20), (\"Reyhan\", 20), (\"Yasin\", 23), (\"Dakik\", 23), (\"رییسی\", 23), (\"Pouria\", 23),(\"Saman\", 22)], dtype=dt)\n",
    "print(\"Original:\",a,\"\\n--------------------------------------------\")\n",
    "print(\"Order by name:\",np.sort(a, order='name'))"
   ]
  },
  {
   "cell_type": "markdown",
   "id": "b4662214",
   "metadata": {},
   "source": [
    "## Sorting another custom list"
   ]
  },
  {
   "cell_type": "code",
   "execution_count": null,
   "id": "f6b5fe79",
   "metadata": {},
   "outputs": [],
   "source": [
    "# Define structured array with named fields\n",
    "tp = np.dtype([('x', np.int32), ('y', np.int64)])\n",
    "data = np.array([(1, 9), (3, 4), (2, 8)], dtype=tp)\n",
    "\n",
    "# Sort by the 'y' field (second element)\n",
    "sorted_data = np.sort(data, order='y')\n",
    "print(sorted_data)\n"
   ]
  },
  {
   "cell_type": "markdown",
   "id": "b3c8129e",
   "metadata": {},
   "source": [
    "## numpy.argsort\n",
    "Returns indices that would sort an array.\n",
    "```python\n",
    "numpy.argsort(a, axis=-1, kind=None, order=None)\n",
    "```"
   ]
  },
  {
   "cell_type": "code",
   "execution_count": null,
   "id": "aa51b894",
   "metadata": {},
   "outputs": [],
   "source": [
    "arr = np.array([3, 1, 2])\n",
    "np.argsort(arr)"
   ]
  },
  {
   "cell_type": "markdown",
   "id": "cabb8110",
   "metadata": {},
   "source": [
    "## numpy.lexsort\n",
    "Sorts using multiple keys.\n",
    "```python\n",
    "numpy.lexsort(keys, axis=-1)\n",
    "```"
   ]
  },
  {
   "cell_type": "code",
   "execution_count": null,
   "id": "941075a0",
   "metadata": {},
   "outputs": [],
   "source": [
    "names = ('john', 'smith', 'john')\n",
    "ages = (25, 30, 20)\n",
    "ind = np.lexsort((ages, names))\n",
    "ind"
   ]
  },
  {
   "cell_type": "markdown",
   "id": "254b7d1b",
   "metadata": {},
   "source": [
    "## numpy.argmax / numpy.argmin\n",
    "Return indices of max/min elements.\n",
    "```python\n",
    "numpy.argmax(a, axis=None)\n",
    "numpy.argmin(a, axis=None)\n",
    "```"
   ]
  },
  {
   "cell_type": "code",
   "execution_count": null,
   "id": "065e0aa0",
   "metadata": {},
   "outputs": [],
   "source": [
    "import random \n",
    "ran = np.random.rand(10)\n",
    "for i in range(0, ran.shape[0]) : \n",
    "    ran[i] *= 10\n",
    "ran = np.int32(ran)\n",
    "print(ran) \n",
    "\n",
    "Max = np.argmax(ran)\n",
    "Min = np.argmin(ran)\n",
    "\n",
    "print(Max, \": \", ran[Max])\n",
    "print(Min, \": \", ran[Min])"
   ]
  },
  {
   "cell_type": "markdown",
   "id": "3ee6c8df",
   "metadata": {},
   "source": [
    "## numpy.nonzero\n",
    "Returns indices of non-zero elements.\n",
    "```python\n",
    "numpy.nonzero(a)\n",
    "```"
   ]
  },
  {
   "cell_type": "code",
   "execution_count": null,
   "id": "96740629",
   "metadata": {},
   "outputs": [],
   "source": [
    "arr = np.array([[0, 1, 0], [2, 0, 3]])\n",
    "print(arr.shape)\n",
    "print(np.nonzero(arr))"
   ]
  },
  {
   "cell_type": "markdown",
   "id": "e221164d",
   "metadata": {},
   "source": [
    "## numpy.searchsorted\n",
    "Finds indices to maintain order.\n",
    "```python\n",
    "numpy.searchsorted(a, v, side='left', sorter=None)\n",
    "```"
   ]
  },
  {
   "cell_type": "code",
   "execution_count": null,
   "id": "bf1ea989",
   "metadata": {},
   "outputs": [],
   "source": [
    "arr = np.array([1, 3, 5])\n",
    "np.searchsorted(arr, 4)"
   ]
  },
  {
   "cell_type": "markdown",
   "id": "4ae13ae8",
   "metadata": {},
   "source": [
    "## numpy.where\n",
    "Finds the indices that satisfy a given condition "
   ]
  },
  {
   "cell_type": "code",
   "execution_count": 28,
   "id": "09327374",
   "metadata": {},
   "outputs": [
    {
     "name": "stdout",
     "output_type": "stream",
     "text": [
      "[0 3 6 9]\n",
      "[[  0 100 100   3]\n",
      " [100 100   6 100]\n",
      " [100   9 100 100]]\n"
     ]
    }
   ],
   "source": [
    "tst = np.arange(12).reshape((3, -1))\n",
    "\n",
    "con = np.where(tst % 3 == 0)\n",
    "\n",
    "print(tst[con])\n",
    "\n",
    "\n",
    "## where(condition, replace if condition satisfied, repleace if condition not satisfied)\n",
    "\n",
    "print(np.where(tst%3==0, tst, 100))\n",
    "\n"
   ]
  },
  {
   "cell_type": "markdown",
   "id": "f020b1d5",
   "metadata": {},
   "source": [
    "## numpy.extract"
   ]
  },
  {
   "cell_type": "code",
   "execution_count": null,
   "id": "dbb13fd3",
   "metadata": {},
   "outputs": [],
   "source": [
    "import numpy as np\n",
    "\n",
    "arr = np.array([[0, 1, 2],\n",
    "                [3, 4, 5]])\n",
    "\n",
    "# Condition: elements divisible by 2\n",
    "np.extract(arr % 2 == 0, arr)\n"
   ]
  },
  {
   "cell_type": "markdown",
   "id": "8a5ed35e",
   "metadata": {},
   "source": []
  }
 ],
 "metadata": {
  "kernelspec": {
   "display_name": "Python 3",
   "language": "python",
   "name": "python3"
  },
  "language_info": {
   "codemirror_mode": {
    "name": "ipython",
    "version": 3
   },
   "file_extension": ".py",
   "mimetype": "text/x-python",
   "name": "python",
   "nbconvert_exporter": "python",
   "pygments_lexer": "ipython3",
   "version": "3.11.4"
  }
 },
 "nbformat": 4,
 "nbformat_minor": 5
}
