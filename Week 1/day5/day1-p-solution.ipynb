{
 "cells": [
  {
   "cell_type": "markdown",
   "id": "029e8800",
   "metadata": {},
   "source": [
    "# Practice Questions on NumPy: Sort, Search & Counting"
   ]
  },
  {
   "cell_type": "code",
   "execution_count": null,
   "id": "d8d4befb",
   "metadata": {},
   "outputs": [],
   "source": [
    "import numpy as np "
   ]
  },
  {
   "cell_type": "markdown",
   "id": "ea0d6738",
   "metadata": {},
   "source": [
    "## Question 1\n",
    "Sort the following 2D NumPy array along the rows using the `heapsort` algorithm:\n",
    "```python\n",
    "arr = np.array([[3, 2, 1], [6, 5, 4], [-1, 0, -2]])\n",
    "```"
   ]
  },
  {
   "cell_type": "code",
   "execution_count": null,
   "id": "a14d48b2",
   "metadata": {},
   "outputs": [],
   "source": [
    "\n",
    "arr = np.array([[3, 2, 1], [6, 5, 4], [-1, 0, -2]])\n",
    "\n",
    "print(np.sort(arr, axis=1, kind=\"heapsort\"))\n"
   ]
  },
  {
   "cell_type": "markdown",
   "id": "4e47eb76",
   "metadata": {},
   "source": [
    "## Question 2\n",
    "Given the following structured array of ID and salary, sort the array by `salary` field:\n",
    "```python\n",
    "dt = np.dtype([('ID', np.int32), ('salary', np.int64)])\n",
    "a = np.array([('124', 20), ('130', 25), ('115', 19)], dtype=dt)\n",
    "```"
   ]
  },
  {
   "cell_type": "code",
   "execution_count": null,
   "id": "706e5a6f",
   "metadata": {},
   "outputs": [],
   "source": [
    "dt = np.dtype([('ID', np.int32), ('salary', np.int64)])\n",
    "a = np.array([('124', 20), ('130', 25), ('115', 19)], dtype=dt)\n",
    "\n",
    "print(np.sort(a, kind=\"mergesort\", order='salary'))\n"
   ]
  },
  {
   "cell_type": "markdown",
   "id": "597d4ba2",
   "metadata": {},
   "source": [
    "## Question 3\n",
    "Create a structured array with fields `x` and `y` and `z` and sort it by the `z` field:\n",
    "```python\n",
    "data = np.array([(0, 1, 2), (2, 5, -1), (1000, 2000, -6), (0, 2, 2)], dtype=[('x', np.int32), ('y', np.int64), ('z', np.int64)])\n",
    "```"
   ]
  },
  {
   "cell_type": "code",
   "execution_count": null,
   "id": "0f2e7338",
   "metadata": {},
   "outputs": [],
   "source": [
    "data = np.array([(0, 1, 2), (2, 5, -1), (1000, 2000, -6), (-1, 2, 2)], dtype=[('x', np.int32), ('y', np.int64), ('z', np.int64)])\n",
    "\n",
    "print(np.sort(data, kind=\"quicksort\", order='z'))\n"
   ]
  },
  {
   "cell_type": "markdown",
   "id": "ba7b1b43",
   "metadata": {},
   "source": [
    "## Question 4\n",
    "Use `np.argsort` to return the indices that would sort the following array:\n",
    "```python\n",
    "arr = np.array([12, 9, 111, -1, 23, 3641, 8423, 4256, -245])\n",
    "```"
   ]
  },
  {
   "cell_type": "code",
   "execution_count": null,
   "id": "f8292c06",
   "metadata": {},
   "outputs": [],
   "source": [
    "arr = np.array([12, 9, 111, -1, 23, 3641, 8423, 4256, -245])\n",
    "srt = np.argsort(arr)\n",
    "\n",
    "ans = np.empty(arr.shape[0], dtype=np.int32)\n",
    "for i in range(ans.shape[0]) : \n",
    "    ans[i] = arr[srt[i]]\n",
    "\n",
    "print(ans)\n",
    "\n"
   ]
  },
  {
   "cell_type": "markdown",
   "id": "8fffc172",
   "metadata": {},
   "source": [
    "## Question 5\n",
    "Using `np.lexsort`, sort using multiple keys (names, then ages):\n",
    "```python\n",
    "names = ('john', 'smith', 'john')\n",
    "ages = (25, 30, 20)\n",
    "```"
   ]
  },
  {
   "cell_type": "code",
   "execution_count": null,
   "id": "2deb3b4f",
   "metadata": {},
   "outputs": [],
   "source": [
    "names = (\"Sheldon\", \"Leonard\", \"Howard\", \"Rajesh\", \"Penny\")\n",
    "IQ = (197, 170, 173, 160, 130)\n",
    "ind = np.lexsort((IQ, names))\n",
    "for i in range(ind.shape[0]): \n",
    "    print(names[i], \":\", IQ[i])"
   ]
  }
 ],
 "metadata": {
  "kernelspec": {
   "display_name": "Python 3",
   "language": "python",
   "name": "python3"
  },
  "language_info": {
   "codemirror_mode": {
    "name": "ipython",
    "version": 3
   },
   "file_extension": ".py",
   "mimetype": "text/x-python",
   "name": "python",
   "nbconvert_exporter": "python",
   "pygments_lexer": "ipython3",
   "version": "3.11.4"
  }
 },
 "nbformat": 4,
 "nbformat_minor": 5
}
