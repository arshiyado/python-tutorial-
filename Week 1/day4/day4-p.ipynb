{
 "cells": [
  {
   "cell_type": "markdown",
   "metadata": {},
   "source": [
    "# Practice: NumPy Iteration Exercises\n",
    "Try to solve each task below and validate your solution using assertions."
   ]
  },
  {
   "cell_type": "code",
   "execution_count": null,
   "id": "83ef5c72",
   "metadata": {},
   "outputs": [],
   "source": [
    "import numpy as np\n"
   ]
  },
  {
   "cell_type": "markdown",
   "id": "d80ec103",
   "metadata": {},
   "source": [
    "## Exercise 1: Sum all elements\n",
    "Compute the sum of all elements in a 2D array using `np.nditer`."
   ]
  },
  {
   "cell_type": "code",
   "execution_count": null,
   "id": "01da3f76",
   "metadata": {},
   "outputs": [],
   "source": [
    "arr = np.array([[1,2,3],[4,5,6]])\n",
    "s = 0\n",
    "for x in np.nditer(arr): s += int(x)\n",
    "assert s == arr.sum(), f\"Expected {arr.sum()}, got {s}\""
   ]
  },
  {
   "cell_type": "markdown",
   "id": "98d4435d",
   "metadata": {},
   "source": [
    "## Exercise 2: Double values in-place\n",
    "Double each element of a 1D array using `op_flags=['readwrite']`."
   ]
  },
  {
   "cell_type": "code",
   "execution_count": null,
   "id": "6d37cf81",
   "metadata": {},
   "outputs": [],
   "source": [
    "arr = np.arange(5)\n",
    "with np.nditer(arr, op_flags=['readwrite']) as it:\n",
    "    for x in it:\n",
    "        x[...] = x * 2\n",
    "assert np.array_equal(arr, np.arange(5)*2)"
   ]
  },
  {
   "cell_type": "markdown",
   "id": "2d856e68",
   "metadata": {},
   "source": [
    "## Exercise 3: Flat iterator\n",
    "Use `arr.flat` to convert a 3×3 array into a list."
   ]
  },
  {
   "cell_type": "code",
   "execution_count": null,
   "id": "152c0d25",
   "metadata": {},
   "outputs": [],
   "source": [
    "arr = np.arange(9).reshape(3,3)\n",
    "lst = [int(x) for x in arr.flat]\n",
    "assert lst == list(range(9))"
   ]
  },
  {
   "cell_type": "markdown",
   "id": "3d2e5559",
   "metadata": {},
   "source": [
    "## Exercise 4: Enumerate with indices\n",
    "Build a dict where keys are `(i,j)` and values are elements of a 2D array using `ndenumerate`."
   ]
  },
  {
   "cell_type": "code",
   "execution_count": null,
   "id": "bf8cee5e",
   "metadata": {},
   "outputs": [],
   "source": [
    "arr = np.array([[10,20],[30,40]])\n",
    "d = {}\n",
    "for idx, x in np.ndenumerate(arr):\n",
    "    d[idx] = int(x)\n",
    "assert d == {(0,0):10,(0,1):20,(1,0):30,(1,1):40}"
   ]
  },
  {
   "cell_type": "markdown",
   "id": "bb8afa6c",
   "metadata": {},
   "source": [
    "## Bonus: Skip every other column\n",
    "Using `nditer`, print elements from every 2nd column of a 2×6 array."
   ]
  },
  {
   "cell_type": "code",
   "execution_count": null,
   "id": "cbe467eb",
   "metadata": {},
   "outputs": [],
   "source": [
    "arr = np.arange(12).reshape(2,6)\n",
    "res = [int(x) for x in np.nditer(arr[:, ::2])]\n",
    "assert res == [0,2,4,6,8,10]"
   ]
  }
 ],
 "metadata": {
  "language_info": {
   "name": "python"
  }
 },
 "nbformat": 4,
 "nbformat_minor": 5
}
