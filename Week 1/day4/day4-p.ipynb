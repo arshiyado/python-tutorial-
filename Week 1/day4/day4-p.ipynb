{
 "cells": [
  {
   "cell_type": "markdown",
   "metadata": {},
   "source": [
    "# Practice: NumPy Iteration Exercises\n",
    "Try to solve each task below and validate your solution using assertions."
   ]
  },
  {
   "cell_type": "code",
   "execution_count": null,
   "id": "83ef5c72",
   "metadata": {},
   "outputs": [],
   "source": [
    "import numpy as np\n"
   ]
  },
  {
   "cell_type": "markdown",
   "id": "d80ec103",
   "metadata": {},
   "source": [
    "## Exercise 1: Sum all elements\n",
    "Compute the sum of all elements in a 2D array using `np.nditer`."
   ]
  },
  {
   "cell_type": "code",
   "execution_count": null,
   "id": "01da3f76",
   "metadata": {},
   "outputs": [],
   "source": []
  },
  {
   "cell_type": "markdown",
   "id": "98d4435d",
   "metadata": {},
   "source": [
    "## Exercise 2: Double values in-place\n",
    "Double each element of a 1D array using `op_flags=['readwrite']`."
   ]
  },
  {
   "cell_type": "code",
   "execution_count": null,
   "id": "6d37cf81",
   "metadata": {},
   "outputs": [],
   "source": []
  },
  {
   "cell_type": "markdown",
   "id": "2d856e68",
   "metadata": {},
   "source": [
    "## Exercise 3: Flat iterator\n",
    "Use `arr.flat` to convert a 3×3 array into a list."
   ]
  },
  {
   "cell_type": "code",
   "execution_count": null,
   "id": "152c0d25",
   "metadata": {},
   "outputs": [],
   "source": []
  },
  {
   "cell_type": "markdown",
   "id": "3d2e5559",
   "metadata": {},
   "source": [
    "## Exercise 4: Enumerate with indices\n",
    "Build a dict where keys are `(i,j)` and values are elements of a 2D array using `ndenumerate`."
   ]
  },
  {
   "cell_type": "code",
   "execution_count": null,
   "id": "bf8cee5e",
   "metadata": {},
   "outputs": [],
   "source": []
  },
  {
   "cell_type": "markdown",
   "id": "bb8afa6c",
   "metadata": {},
   "source": [
    "## Bonus: Skip every other column\n",
    "Using `nditer`, print elements from every 2nd column of a 2×6 array."
   ]
  },
  {
   "cell_type": "code",
   "execution_count": null,
   "id": "cbe467eb",
   "metadata": {},
   "outputs": [],
   "source": []
  }
 ],
 "metadata": {
  "language_info": {
   "name": "python"
  }
 },
 "nbformat": 4,
 "nbformat_minor": 5
}
