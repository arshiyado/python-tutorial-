{
 "cells": [
  {
   "cell_type": "markdown",
   "metadata": {},
   "source": [
    "# NumPy Iterating Over Arrays\n",
    "This notebook summarizes key techniques for iterating through NumPy arrays."
   ]
  },
  {
   "cell_type": "code",
   "execution_count": 1,
   "id": "bb3ad49f",
   "metadata": {},
   "outputs": [],
   "source": [
    "import numpy as np"
   ]
  },
  {
   "cell_type": "markdown",
   "id": "210b87e1",
   "metadata": {},
   "source": [
    "## 1D Array Iteration"
   ]
  },
  {
   "cell_type": "code",
   "execution_count": 7,
   "metadata": {},
   "outputs": [
    {
     "name": "stdout",
     "output_type": "stream",
     "text": [
      "1\n",
      "2\n",
      "3\n",
      "4\n",
      "5\n"
     ]
    }
   ],
   "source": [
    "arr = np.array([1, 2, 3, 4, 5])\n",
    "for x in arr:\n",
    "    print(x)"
   ]
  },
  {
   "cell_type": "markdown",
   "id": "8bde3a58",
   "metadata": {},
   "source": [
    "## 2D Array: row-wise iteration"
   ]
  },
  {
   "cell_type": "code",
   "execution_count": 14,
   "metadata": {},
   "outputs": [
    {
     "name": "stdout",
     "output_type": "stream",
     "text": [
      "[1 2 3]\n",
      "[4 5 6]\n",
      "-----------\n",
      "1\n",
      "2\n",
      "3\n",
      "4\n",
      "5\n",
      "6\n"
     ]
    }
   ],
   "source": [
    "arr2 = np.array([[1,2,3], [4,5,6]])\n",
    "for row in arr2:\n",
    "    print(row)\n",
    "# Nested iteration to access scalars\n",
    "print(\"-----------\")\n",
    "for row in arr2:\n",
    "    for x in row:\n",
    "        print(x)\n"
   ]
  },
  {
   "cell_type": "markdown",
   "id": "f437b30c",
   "metadata": {},
   "source": [
    "## 3D Array iteration"
   ]
  },
  {
   "cell_type": "code",
   "execution_count": 23,
   "metadata": {},
   "outputs": [
    {
     "name": "stdout",
     "output_type": "stream",
     "text": [
      "(2, 2, 2) \n",
      "-------------\n",
      "[[1 2]\n",
      " [3 4]]\n",
      "[[5 6]\n",
      " [7 8]]\n",
      "-------------\n",
      "1\n",
      "2\n",
      "3\n",
      "4\n",
      "5\n",
      "6\n",
      "7\n",
      "8\n",
      "-----------\n",
      "1 2 3 4 5 6 7 8 "
     ]
    }
   ],
   "source": [
    "arr3 = np.array([[[1,2],[3,4]], [[5,6],[7,8]]])\n",
    "print(arr3.shape, \"\\n-------------\")\n",
    "for mat in arr3:\n",
    "    print(mat)\n",
    "print(\"-------------\")\n",
    "for mat in arr3:\n",
    "    for row in mat:\n",
    "        for x in row:\n",
    "            print(x)\n",
    "            \n",
    "print(\"-----------\")            \n",
    "for i in range(2): \n",
    "    for j in range(2): \n",
    "        for k in range(2): \n",
    "            print(arr3[i, j, k], end=\" \")"
   ]
  },
  {
   "cell_type": "markdown",
   "id": "a8f5fbfc",
   "metadata": {},
   "source": [
    "## Using np.nditer for flat iteration"
   ]
  },
  {
   "cell_type": "code",
   "execution_count": 45,
   "metadata": {},
   "outputs": [
    {
     "name": "stdout",
     "output_type": "stream",
     "text": [
      "[[1 2 3]\n",
      " [4 5 6]] \n",
      "\n",
      "1 2 3 4 5 6 \n",
      "\n",
      "1 4 2 5 3 6 "
     ]
    }
   ],
   "source": [
    "arr2_flat = np.array([[1,2,3],[4,5,6]])\n",
    "print(arr2_flat, \"\\n\")\n",
    "for x in np.nditer(arr2_flat):\n",
    "    print(x, end=' ')\n",
    "print(\"\\n\")\n",
    "for x in np.nditer(arr2_flat, order=\"F\"): \n",
    "    print(x, end=' ')\n"
   ]
  },
  {
   "cell_type": "markdown",
   "id": "5798dc12",
   "metadata": {},
   "source": [
    "# Changing dtype during iteration\n"
   ]
  },
  {
   "cell_type": "code",
   "execution_count": 46,
   "metadata": {},
   "outputs": [
    {
     "name": "stdout",
     "output_type": "stream",
     "text": [
      "1.0\n",
      "2.0\n",
      "3.0\n",
      "4.0\n",
      "5.0\n"
     ]
    }
   ],
   "source": [
    "arr = np.array([1, 2, 3, 4, 5])\n",
    "for x in np.nditer(arr, flags=['buffered'], op_dtypes=np.float64):\n",
    "    print(x)"
   ]
  },
  {
   "cell_type": "markdown",
   "id": "40e3e296",
   "metadata": {},
   "source": [
    "# Skipping elements via slicing"
   ]
  },
  {
   "cell_type": "markdown",
   "id": "bb64e7a4",
   "metadata": {},
   "source": [
    "### Quick reminder of slicing"
   ]
  },
  {
   "cell_type": "code",
   "execution_count": 53,
   "id": "65bc3ad9",
   "metadata": {},
   "outputs": [
    {
     "name": "stdout",
     "output_type": "stream",
     "text": [
      "[10 20 30 40 50]\n",
      "[20 30 40]\n",
      "[10 20 30]\n",
      "[10 30 50]\n",
      "[50 40 30 20 10]\n",
      "[20 40]\n"
     ]
    }
   ],
   "source": [
    "a = np.linspace(10, 50, num=5, endpoint=True, dtype=np.int32) # [10, 20, 30, 40, 50]\n",
    "print(a)\n",
    "print(a[1:4])     # [20, 30, 40]\n",
    "print(a[:3])      # [10, 20, 30]\n",
    "print(a[::2])     # [10, 30, 50]\n",
    "print(a[::-1])    # [50, 40, 30, 20, 10] (reversed)\n",
    "print(a[1::2])    # [20, 40]\n"
   ]
  },
  {
   "cell_type": "code",
   "execution_count": 55,
   "metadata": {},
   "outputs": [
    {
     "name": "stdout",
     "output_type": "stream",
     "text": [
      "[[1 2 3]\n",
      " [4 5 6]] \n",
      "\n",
      "1 3 4 6 "
     ]
    }
   ],
   "source": [
    "print(arr2, \"\\n\")\n",
    "for x in np.nditer(arr2[:, ::2]): # the first : means on all rows \n",
    "    print(x, end=' ')"
   ]
  },
  {
   "cell_type": "markdown",
   "id": "4971a655",
   "metadata": {},
   "source": [
    "## Enumerate with np.ndenumerate"
   ]
  },
  {
   "cell_type": "code",
   "execution_count": 60,
   "metadata": {},
   "outputs": [
    {
     "name": "stdout",
     "output_type": "stream",
     "text": [
      "[[1 2 3]\n",
      " [4 5 6]] \n",
      "--------------\n",
      "(0, 0) 1\n",
      "(0, 1) 2\n",
      "(0, 2) 3\n",
      "(1, 0) 4\n",
      "(1, 1) 5\n",
      "(1, 2) 6\n"
     ]
    }
   ],
   "source": [
    "print(arr2, \"\\n--------------\")\n",
    "for idx, x in np.ndenumerate(arr2):\n",
    "    print(idx, x)"
   ]
  },
  {
   "cell_type": "markdown",
   "metadata": {},
   "source": [
    "### Additional \n",
    "- `arr.flat`: flat iterator over any array  \n",
    "- op_flags :  \n",
    "    - `'readonly'` – default  \n",
    "    - `'readwrite'` – allows modifying elements  \n",
    "    - `'writeonly'` – for assigning new values only\n",
    "\n",
    "- Broadcast iteration\n",
    "- Use vectorized operations instead of manual iteration when possible  "
   ]
  },
  {
   "cell_type": "markdown",
   "id": "17fc10ab",
   "metadata": {},
   "source": [
    "### op_flag"
   ]
  },
  {
   "cell_type": "code",
   "execution_count": 61,
   "id": "b55501d3",
   "metadata": {},
   "outputs": [
    {
     "name": "stdout",
     "output_type": "stream",
     "text": [
      "[2 4 6]\n"
     ]
    }
   ],
   "source": [
    "a = np.array([1, 2, 3])\n",
    "for x in np.nditer(a, op_flags=['readwrite']):\n",
    "    x[...] = x * 2  # modifies a in-place\n",
    "\n",
    "print(a)  # Output: [2, 4, 6]\n"
   ]
  },
  {
   "cell_type": "markdown",
   "id": "339b3588",
   "metadata": {},
   "source": [
    "### external loop\n",
    " Combines elements into chunks (e.g., rows) instead of individual elements. Useful for performance.\n",
    "\n"
   ]
  },
  {
   "cell_type": "code",
   "execution_count": 62,
   "id": "2857001e",
   "metadata": {},
   "outputs": [
    {
     "name": "stdout",
     "output_type": "stream",
     "text": [
      "[1 2 3 4 5 6]\n"
     ]
    }
   ],
   "source": [
    "a = np.array([[1, 2, 3], [4, 5, 6]])\n",
    "for x in np.nditer(a, flags=['external_loop'], order='C'):\n",
    "    print(x)  # prints [1 2 3] then [4 5 6]\n"
   ]
  },
  {
   "cell_type": "markdown",
   "id": "dda5ac1a",
   "metadata": {},
   "source": [
    "### BroadCast"
   ]
  },
  {
   "cell_type": "code",
   "execution_count": 63,
   "id": "d10b89cb",
   "metadata": {},
   "outputs": [
    {
     "name": "stdout",
     "output_type": "stream",
     "text": [
      "1 10\n",
      "2 10\n",
      "3 10\n",
      "1 20\n",
      "2 20\n",
      "3 20\n"
     ]
    }
   ],
   "source": [
    "a = np.array([1, 2, 3])\n",
    "b = np.array([[10], [20]])\n",
    "\n",
    "for x, y in np.nditer([a, b]):\n",
    "    print(x, y)\n"
   ]
  },
  {
   "cell_type": "markdown",
   "id": "aef07ffd",
   "metadata": {},
   "source": [
    "### Vectorized operations"
   ]
  },
  {
   "cell_type": "code",
   "execution_count": 64,
   "id": "3885df78",
   "metadata": {},
   "outputs": [
    {
     "name": "stdout",
     "output_type": "stream",
     "text": [
      "[2 4 6 8]\n",
      "[ 3  6  9 12]\n"
     ]
    }
   ],
   "source": [
    "a = np.array([1, 2, 3, 4])\n",
    "b = a * 2\n",
    "c = a + b \n",
    "print(b)  # Output: [2 4 6 8]\n",
    "print(c)  # Output: [3, 6, 9, 12]"
   ]
  },
  {
   "cell_type": "code",
   "execution_count": null,
   "id": "d1cf5e63",
   "metadata": {},
   "outputs": [],
   "source": []
  }
 ],
 "metadata": {
  "kernelspec": {
   "display_name": "Python 3",
   "language": "python",
   "name": "python3"
  },
  "language_info": {
   "codemirror_mode": {
    "name": "ipython",
    "version": 3
   },
   "file_extension": ".py",
   "mimetype": "text/x-python",
   "name": "python",
   "nbconvert_exporter": "python",
   "pygments_lexer": "ipython3",
   "version": "3.11.4"
  }
 },
 "nbformat": 4,
 "nbformat_minor": 5
}
