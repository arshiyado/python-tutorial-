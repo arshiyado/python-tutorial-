{
 "cells": [
  {
   "cell_type": "code",
   "execution_count": 2,
   "id": "eaa67ca1",
   "metadata": {},
   "outputs": [],
   "source": [
    "import numpy as np "
   ]
  },
  {
   "cell_type": "code",
   "execution_count": 3,
   "id": "c601b69b",
   "metadata": {},
   "outputs": [],
   "source": [
    "arr = np.array([[1, 2, 3], [4, 5, 6]])"
   ]
  },
  {
   "cell_type": "code",
   "execution_count": 4,
   "id": "882b4eaa",
   "metadata": {},
   "outputs": [
    {
     "name": "stdout",
     "output_type": "stream",
     "text": [
      "[[1 2 3]\n",
      " [4 5 6]]\n"
     ]
    }
   ],
   "source": [
    "print(arr)"
   ]
  },
  {
   "cell_type": "code",
   "execution_count": 15,
   "id": "6e579cce",
   "metadata": {},
   "outputs": [
    {
     "name": "stdout",
     "output_type": "stream",
     "text": [
      "(2, 3)\n",
      "2\n",
      "3\n",
      "(24, 8)\n"
     ]
    }
   ],
   "source": [
    "print(arr.shape) # returns a tuple that has the dimension of the array\n",
    "t = arr.shape\n",
    "for i in range(0, len(t)) : \n",
    "    print(t[i])\n",
    "    \n",
    "print(arr.strides) # returns a tuple the size in bytes we need to go from a row to next row and a column to next "
   ]
  },
  {
   "cell_type": "code",
   "execution_count": 9,
   "id": "9023a316",
   "metadata": {},
   "outputs": [],
   "source": [
    "student = np.dtype([('name', 'U20'), ('age', 'i1'), ('marks', 'f4')])\n",
    "a = np.array([('abc', 21, 50), ('xyz', 18, 75)], dtype=student) "
   ]
  },
  {
   "cell_type": "code",
   "execution_count": 17,
   "id": "221aff6c",
   "metadata": {},
   "outputs": [
    {
     "name": "stdout",
     "output_type": "stream",
     "text": [
      "[('name', '<U20'), ('age', 'i1'), ('marks', '<f4')]\n",
      "[('abc', 21, 50.) ('xyz', 18, 75.)]\n",
      "['abc' 'xyz']\n",
      "[50. 75.]\n"
     ]
    }
   ],
   "source": [
    "print(a.dtype)\n",
    "print(a)\n",
    "print(a['name'])\n",
    "print(a['marks'])"
   ]
  },
  {
   "cell_type": "code",
   "execution_count": 13,
   "id": "e7d1cba5",
   "metadata": {},
   "outputs": [
    {
     "name": "stdout",
     "output_type": "stream",
     "text": [
      "[('name', '<U20'), ('age', 'i1'), ('marks', '<f4')]\n"
     ]
    }
   ],
   "source": [
    "print(a.dtype)"
   ]
  },
  {
   "cell_type": "code",
   "execution_count": 16,
   "id": "0819611d",
   "metadata": {},
   "outputs": [
    {
     "name": "stdout",
     "output_type": "stream",
     "text": [
      "Array: [1.+2.j 3.+4.j 5.+6.j]\n",
      "Data type: complex64\n"
     ]
    }
   ],
   "source": [
    "c = np.array([1+2j, 3+4j, 5+6j], dtype=np.complex64)\n",
    "print(\"Array:\", c)\n",
    "print(\"Data type:\", c.dtype)"
   ]
  },
  {
   "cell_type": "markdown",
   "id": "958b45da",
   "metadata": {},
   "source": [
    "# Practice for numpy dtypes "
   ]
  }
 ],
 "metadata": {
  "kernelspec": {
   "display_name": "Python 3",
   "language": "python",
   "name": "python3"
  },
  "language_info": {
   "codemirror_mode": {
    "name": "ipython",
    "version": 3
   },
   "file_extension": ".py",
   "mimetype": "text/x-python",
   "name": "python",
   "nbconvert_exporter": "python",
   "pygments_lexer": "ipython3",
   "version": "3.11.4"
  }
 },
 "nbformat": 4,
 "nbformat_minor": 5
}
