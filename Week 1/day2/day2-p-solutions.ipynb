{
 "cells": [
  {
   "cell_type": "markdown",
   "id": "8104bee9",
   "metadata": {},
   "source": [
    "# NumPy Array Creation - Practice Exercises"
   ]
  },
  {
   "cell_type": "code",
   "execution_count": null,
   "id": "f870ada6",
   "metadata": {},
   "outputs": [],
   "source": [
    "import numpy as np "
   ]
  },
  {
   "cell_type": "markdown",
   "id": "22169a81",
   "metadata": {},
   "source": [
    "## Exercise 1: Create a 1D array of ten zeros\n",
    "- Use `np.zeros`\n",
    "- Data type should be `int32`"
   ]
  },
  {
   "cell_type": "code",
   "execution_count": null,
   "id": "a8e19e69",
   "metadata": {},
   "outputs": [],
   "source": [
    "a = np.zeros((10), dtype=np.int32)\n",
    "print(a)"
   ]
  },
  {
   "cell_type": "markdown",
   "id": "50b8644a",
   "metadata": {},
   "source": [
    "## Exercise 2: Create a 2D array of shape (3, 4) filled with ones\n",
    "- Use `np.ones`\n",
    "- Data type should be `float64`"
   ]
  },
  {
   "cell_type": "code",
   "execution_count": null,
   "id": "25ce65aa",
   "metadata": {},
   "outputs": [],
   "source": [
    "b = np.ones((3, 4), dtype=np.float64)\n",
    "print(b)"
   ]
  },
  {
   "cell_type": "markdown",
   "id": "5356858a",
   "metadata": {},
   "source": [
    "## Exercise 3: Create a 3x3 array filled with the number 7\n",
    "- Use `np.full`"
   ]
  },
  {
   "cell_type": "code",
   "execution_count": null,
   "id": "5067fe03",
   "metadata": {},
   "outputs": [],
   "source": [
    "c = np.full((3, 3), fill_value=7)\n",
    "print(c)"
   ]
  },
  {
   "cell_type": "markdown",
   "id": "425b3fb5",
   "metadata": {},
   "source": [
    "## Exercise 4: Create an empty array of shape (2, 5)\n",
    "- Use `np.empty`"
   ]
  },
  {
   "cell_type": "code",
   "execution_count": null,
   "id": "5d951460",
   "metadata": {},
   "outputs": [],
   "source": [
    "d = np.empty((2, 5))\n",
    "print(d)"
   ]
  },
  {
   "cell_type": "markdown",
   "id": "5cd32d7f",
   "metadata": {},
   "source": [
    "## Exercise 5: Create an array of even numbers from 0 to 20 (inclusive)\n",
    "- Use `np.arange`"
   ]
  },
  {
   "cell_type": "code",
   "execution_count": null,
   "id": "ecd22479",
   "metadata": {},
   "outputs": [],
   "source": [
    "e = np.arange(0, 21, 2)\n",
    "print(e)"
   ]
  },
  {
   "cell_type": "markdown",
   "id": "11bfd334",
   "metadata": {},
   "source": [
    "## Exercise 6: Create 5 evenly spaced numbers between 0 and 1\n",
    "- Use `np.linspace`"
   ]
  },
  {
   "cell_type": "code",
   "execution_count": null,
   "id": "d145e4e2",
   "metadata": {},
   "outputs": [],
   "source": [
    "f = np.linspace(0, 1, num=5)\n",
    "print(f)"
   ]
  },
  {
   "cell_type": "markdown",
   "id": "6a29f1ed",
   "metadata": {},
   "source": [
    "## Exercise 7: Reshape a 1D array of 12 elements into a 3x4 array\n",
    "- Use `np.reshape`"
   ]
  },
  {
   "cell_type": "code",
   "execution_count": null,
   "id": "790ab1b7",
   "metadata": {},
   "outputs": [],
   "source": [
    "f = np.linspace(0, 1, num=5)\n",
    "print(f)"
   ]
  },
  {
   "cell_type": "code",
   "execution_count": null,
   "id": "b56aafd8",
   "metadata": {},
   "outputs": [],
   "source": []
  }
 ],
 "metadata": {
  "kernelspec": {
   "display_name": "Python 3",
   "language": "python",
   "name": "python3"
  },
  "language_info": {
   "codemirror_mode": {
    "name": "ipython",
    "version": 3
   },
   "file_extension": ".py",
   "mimetype": "text/x-python",
   "name": "python",
   "nbconvert_exporter": "python",
   "pygments_lexer": "ipython3",
   "version": "3.11.4"
  }
 },
 "nbformat": 4,
 "nbformat_minor": 5
}
