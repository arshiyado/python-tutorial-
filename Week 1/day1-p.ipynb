{
 "cells": [
  {
   "cell_type": "markdown",
   "id": "e6dbd0d4",
   "metadata": {},
   "source": [
    "# NumPy Casting Practice Exercises\n",
    "\n",
    "This notebook contains 10 practice problems related to NumPy data type conversions (casting) using `.astype()` and NumPy type constructors like `np.int32()`, `np.float64()`, etc.\n",
    "\n",
    "<!-- > **Date:** 2025-07-06 -->\n"
   ]
  },
  {
   "cell_type": "code",
   "execution_count": 1,
   "id": "70f87629",
   "metadata": {},
   "outputs": [],
   "source": [
    "import numpy as np"
   ]
  },
  {
   "cell_type": "markdown",
   "id": "3bf46226",
   "metadata": {},
   "source": [
    "### Exercise 1\n",
    "Create a NumPy array of integers from 1 to 5. Convert it to float using `.astype()`."
   ]
  },
  {
   "cell_type": "code",
   "execution_count": null,
   "id": "3c976510",
   "metadata": {},
   "outputs": [],
   "source": []
  },
  {
   "cell_type": "markdown",
   "id": "83b381ef",
   "metadata": {},
   "source": [
    "### Exercise 2\n",
    "Take a float array `[1.5, 2.7, 3.3]` and cast it to integer using `np.int32()`."
   ]
  },
  {
   "cell_type": "code",
   "execution_count": null,
   "id": "3970627c",
   "metadata": {},
   "outputs": [],
   "source": []
  },
  {
   "cell_type": "markdown",
   "id": "0d886297",
   "metadata": {},
   "source": [
    "### Exercise 3\n",
    "Create a NumPy array of strings `['10', '20', '30']` and convert it to integers using `np.int16()`."
   ]
  },
  {
   "cell_type": "code",
   "execution_count": null,
   "id": "d526cd81",
   "metadata": {},
   "outputs": [],
   "source": []
  },
  {
   "cell_type": "markdown",
   "id": "cbd36c7d",
   "metadata": {},
   "source": [
    "### Exercise 4\n",
    "Try converting the string array `['1', 'hello', '3']` to integers and catch the error gracefully using `try-except`."
   ]
  },
  {
   "cell_type": "code",
   "execution_count": null,
   "id": "061c17e7",
   "metadata": {},
   "outputs": [],
   "source": []
  },
  {
   "cell_type": "markdown",
   "id": "3abb6e6d",
   "metadata": {},
   "source": [
    "### Exercise 5\n",
    "Generate a NumPy array with type `np.float64`, then cast it to `np.complex64`."
   ]
  },
  {
   "cell_type": "code",
   "execution_count": null,
   "id": "50d43a91",
   "metadata": {},
   "outputs": [],
   "source": []
  },
  {
   "cell_type": "markdown",
   "id": "33f8f616",
   "metadata": {},
   "source": [
    "### Exercise 6\n",
    "Create an integer array `[100, 200, 300]`, then convert it to strings using `.astype(str)`."
   ]
  },
  {
   "cell_type": "code",
   "execution_count": null,
   "id": "b0ae247f",
   "metadata": {},
   "outputs": [],
   "source": []
  },
  {
   "cell_type": "markdown",
   "id": "5196fd5a",
   "metadata": {},
   "source": [
    "### Exercise 7\n",
    "Make a boolean array `[True, False, True]` and cast it to `int` and `float`. Observe the results."
   ]
  },
  {
   "cell_type": "code",
   "execution_count": null,
   "id": "64e9c86e",
   "metadata": {},
   "outputs": [],
   "source": []
  },
  {
   "cell_type": "markdown",
   "id": "8681db11",
   "metadata": {},
   "source": [
    "### Exercise 8\n",
    "Create an array of mixed floats and cast it to `int`, then back to `float`. Compare original vs final arrays."
   ]
  },
  {
   "cell_type": "code",
   "execution_count": null,
   "id": "a6e1cd9e",
   "metadata": {},
   "outputs": [],
   "source": []
  },
  {
   "cell_type": "markdown",
   "id": "da0a471f",
   "metadata": {},
   "source": [
    "### Exercise 9\n",
    "Make a 2D array of integers and convert all values to `float64` using `.astype()`."
   ]
  },
  {
   "cell_type": "code",
   "execution_count": null,
   "id": "d7889521",
   "metadata": {},
   "outputs": [],
   "source": []
  },
  {
   "cell_type": "markdown",
   "id": "1c85721d",
   "metadata": {},
   "source": [
    "### Exercise 10\n",
    "Create a string array `['3.14', '2.71']` and convert it to `float32`. Then, convert it to `complex128`."
   ]
  },
  {
   "cell_type": "code",
   "execution_count": null,
   "id": "7c61ec28",
   "metadata": {},
   "outputs": [],
   "source": []
  },
  {
   "cell_type": "code",
   "execution_count": null,
   "id": "fa8ad029",
   "metadata": {},
   "outputs": [],
   "source": []
  }
 ],
 "metadata": {
  "kernelspec": {
   "display_name": "Python 3",
   "language": "python",
   "name": "python3"
  },
  "language_info": {
   "codemirror_mode": {
    "name": "ipython",
    "version": 3
   },
   "file_extension": ".py",
   "mimetype": "text/x-python",
   "name": "python",
   "nbconvert_exporter": "python",
   "pygments_lexer": "ipython3",
   "version": "3.11.4"
  }
 },
 "nbformat": 4,
 "nbformat_minor": 5
}
